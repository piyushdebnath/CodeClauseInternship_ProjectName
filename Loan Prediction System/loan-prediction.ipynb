{
 "cells": [
  {
   "cell_type": "markdown",
   "id": "578a6d36",
   "metadata": {
    "papermill": {
     "duration": 0.015476,
     "end_time": "2023-08-01T17:42:18.236904",
     "exception": false,
     "start_time": "2023-08-01T17:42:18.221428",
     "status": "completed"
    },
    "tags": []
   },
   "source": [
    "***Loan Prediction System***"
   ]
  },
  {
   "cell_type": "markdown",
   "id": "8ddc3a00",
   "metadata": {
    "papermill": {
     "duration": 0.016315,
     "end_time": "2023-08-01T17:42:18.268768",
     "exception": false,
     "start_time": "2023-08-01T17:42:18.252453",
     "status": "completed"
    },
    "tags": []
   },
   "source": [
    "The primary need in the current world is LOANS. Banks only receive a large portion of the overall earnings from this. It is advantageous for people to purchase any type of luxury, such as homes, vehicles, etc., as well as for students to manage their educational and living expenditures. However, the decision as to whether the applicant's profile is pertinent for loan approval or not. Banks have a lot of responsibilities. To make their jobs easier and determine whether the candidate's profile is relevant or not, I have used Machine Learning with Python in this case. This will be done by using important features like applicant income, credit history, applicant income, and marital status.\n",
    "\n"
   ]
  },
  {
   "cell_type": "code",
   "execution_count": 1,
   "id": "5cc40cd0",
   "metadata": {
    "_cell_guid": "b1076dfc-b9ad-4769-8c92-a6c4dae69d19",
    "_uuid": "8f2839f25d086af736a60e9eeb907d3b93b6e0e5",
    "execution": {
     "iopub.execute_input": "2023-08-01T17:42:18.304006Z",
     "iopub.status.busy": "2023-08-01T17:42:18.303162Z",
     "iopub.status.idle": "2023-08-01T17:42:18.322270Z",
     "shell.execute_reply": "2023-08-01T17:42:18.321318Z"
    },
    "papermill": {
     "duration": 0.041415,
     "end_time": "2023-08-01T17:42:18.325508",
     "exception": false,
     "start_time": "2023-08-01T17:42:18.284093",
     "status": "completed"
    },
    "tags": []
   },
   "outputs": [
    {
     "name": "stdout",
     "output_type": "stream",
     "text": [
      "/kaggle/input/loan-predication/train_u6lujuX_CVtuZ9i (1).csv\n"
     ]
    }
   ],
   "source": [
    "# This Python 3 environment comes with many helpful analytics libraries installed\n",
    "# It is defined by the kaggle/python Docker image: https://github.com/kaggle/docker-python\n",
    "# For example, here's several helpful packages to load\n",
    "\n",
    "import numpy as np # linear algebra\n",
    "import pandas as pd # data processing, CSV file I/O (e.g. pd.read_csv)\n",
    "\n",
    "# Input data files are available in the read-only \"../input/\" directory\n",
    "# For example, running this (by clicking run or pressing Shift+Enter) will list all files under the input directory\n",
    "\n",
    "import os\n",
    "for dirname, _, filenames in os.walk('/kaggle/input'):\n",
    "    for filename in filenames:\n",
    "        print(os.path.join(dirname, filename))\n",
    "\n",
    "# You can write up to 20GB to the current directory (/kaggle/working/) that gets preserved as output when you create a version using \"Save & Run All\" \n",
    "# You can also write temporary files to /kaggle/temp/, but they won't be saved outside of the current session"
   ]
  },
  {
   "cell_type": "markdown",
   "id": "148b0c95",
   "metadata": {
    "papermill": {
     "duration": 0.015491,
     "end_time": "2023-08-01T17:42:18.357902",
     "exception": false,
     "start_time": "2023-08-01T17:42:18.342411",
     "status": "completed"
    },
    "tags": []
   },
   "source": [
    "Importing the Dependancies"
   ]
  },
  {
   "cell_type": "code",
   "execution_count": 2,
   "id": "27834622",
   "metadata": {
    "execution": {
     "iopub.execute_input": "2023-08-01T17:42:18.391079Z",
     "iopub.status.busy": "2023-08-01T17:42:18.390615Z",
     "iopub.status.idle": "2023-08-01T17:42:20.581423Z",
     "shell.execute_reply": "2023-08-01T17:42:20.580243Z"
    },
    "papermill": {
     "duration": 2.211094,
     "end_time": "2023-08-01T17:42:20.584225",
     "exception": false,
     "start_time": "2023-08-01T17:42:18.373131",
     "status": "completed"
    },
    "tags": []
   },
   "outputs": [
    {
     "name": "stderr",
     "output_type": "stream",
     "text": [
      "/opt/conda/lib/python3.10/site-packages/scipy/__init__.py:146: UserWarning: A NumPy version >=1.16.5 and <1.23.0 is required for this version of SciPy (detected version 1.23.5\n",
      "  warnings.warn(f\"A NumPy version >={np_minversion} and <{np_maxversion}\"\n"
     ]
    }
   ],
   "source": [
    "import numpy as np\n",
    "import pandas as pd\n",
    "import seaborn as sns\n",
    "from sklearn.model_selection import train_test_split\n",
    "from sklearn.model_selection import cross_val_score\n",
    "from sklearn import svm\n",
    "from sklearn.metrics import accuracy_score\n"
   ]
  },
  {
   "cell_type": "markdown",
   "id": "75a10d09",
   "metadata": {
    "papermill": {
     "duration": 0.015942,
     "end_time": "2023-08-01T17:42:20.616850",
     "exception": false,
     "start_time": "2023-08-01T17:42:20.600908",
     "status": "completed"
    },
    "tags": []
   },
   "source": [
    "# Data Collection and Processing"
   ]
  },
  {
   "cell_type": "code",
   "execution_count": 3,
   "id": "d8e618d4",
   "metadata": {
    "execution": {
     "iopub.execute_input": "2023-08-01T17:42:20.651150Z",
     "iopub.status.busy": "2023-08-01T17:42:20.650628Z",
     "iopub.status.idle": "2023-08-01T17:42:20.687486Z",
     "shell.execute_reply": "2023-08-01T17:42:20.686430Z"
    },
    "papermill": {
     "duration": 0.057687,
     "end_time": "2023-08-01T17:42:20.689982",
     "exception": false,
     "start_time": "2023-08-01T17:42:20.632295",
     "status": "completed"
    },
    "tags": []
   },
   "outputs": [
    {
     "data": {
      "text/plain": [
       "pandas.core.frame.DataFrame"
      ]
     },
     "execution_count": 3,
     "metadata": {},
     "output_type": "execute_result"
    }
   ],
   "source": [
    "#loading the dataset\n",
    "df= pd.read_csv('/kaggle/input/loan-predication/train_u6lujuX_CVtuZ9i (1).csv')\n",
    "type(df)"
   ]
  },
  {
   "cell_type": "code",
   "execution_count": 4,
   "id": "7674ccfb",
   "metadata": {
    "execution": {
     "iopub.execute_input": "2023-08-01T17:42:20.724346Z",
     "iopub.status.busy": "2023-08-01T17:42:20.723826Z",
     "iopub.status.idle": "2023-08-01T17:42:20.758232Z",
     "shell.execute_reply": "2023-08-01T17:42:20.757207Z"
    },
    "papermill": {
     "duration": 0.055645,
     "end_time": "2023-08-01T17:42:20.760927",
     "exception": false,
     "start_time": "2023-08-01T17:42:20.705282",
     "status": "completed"
    },
    "tags": []
   },
   "outputs": [
    {
     "data": {
      "text/html": [
       "<div>\n",
       "<style scoped>\n",
       "    .dataframe tbody tr th:only-of-type {\n",
       "        vertical-align: middle;\n",
       "    }\n",
       "\n",
       "    .dataframe tbody tr th {\n",
       "        vertical-align: top;\n",
       "    }\n",
       "\n",
       "    .dataframe thead th {\n",
       "        text-align: right;\n",
       "    }\n",
       "</style>\n",
       "<table border=\"1\" class=\"dataframe\">\n",
       "  <thead>\n",
       "    <tr style=\"text-align: right;\">\n",
       "      <th></th>\n",
       "      <th>Loan_ID</th>\n",
       "      <th>Gender</th>\n",
       "      <th>Married</th>\n",
       "      <th>Dependents</th>\n",
       "      <th>Education</th>\n",
       "      <th>Self_Employed</th>\n",
       "      <th>ApplicantIncome</th>\n",
       "      <th>CoapplicantIncome</th>\n",
       "      <th>LoanAmount</th>\n",
       "      <th>Loan_Amount_Term</th>\n",
       "      <th>Credit_History</th>\n",
       "      <th>Property_Area</th>\n",
       "      <th>Loan_Status</th>\n",
       "    </tr>\n",
       "  </thead>\n",
       "  <tbody>\n",
       "    <tr>\n",
       "      <th>0</th>\n",
       "      <td>LP001002</td>\n",
       "      <td>Male</td>\n",
       "      <td>No</td>\n",
       "      <td>0</td>\n",
       "      <td>Graduate</td>\n",
       "      <td>No</td>\n",
       "      <td>5849</td>\n",
       "      <td>0.0</td>\n",
       "      <td>NaN</td>\n",
       "      <td>360.0</td>\n",
       "      <td>1.0</td>\n",
       "      <td>Urban</td>\n",
       "      <td>Y</td>\n",
       "    </tr>\n",
       "    <tr>\n",
       "      <th>1</th>\n",
       "      <td>LP001003</td>\n",
       "      <td>Male</td>\n",
       "      <td>Yes</td>\n",
       "      <td>1</td>\n",
       "      <td>Graduate</td>\n",
       "      <td>No</td>\n",
       "      <td>4583</td>\n",
       "      <td>1508.0</td>\n",
       "      <td>128.0</td>\n",
       "      <td>360.0</td>\n",
       "      <td>1.0</td>\n",
       "      <td>Rural</td>\n",
       "      <td>N</td>\n",
       "    </tr>\n",
       "    <tr>\n",
       "      <th>2</th>\n",
       "      <td>LP001005</td>\n",
       "      <td>Male</td>\n",
       "      <td>Yes</td>\n",
       "      <td>0</td>\n",
       "      <td>Graduate</td>\n",
       "      <td>Yes</td>\n",
       "      <td>3000</td>\n",
       "      <td>0.0</td>\n",
       "      <td>66.0</td>\n",
       "      <td>360.0</td>\n",
       "      <td>1.0</td>\n",
       "      <td>Urban</td>\n",
       "      <td>Y</td>\n",
       "    </tr>\n",
       "    <tr>\n",
       "      <th>3</th>\n",
       "      <td>LP001006</td>\n",
       "      <td>Male</td>\n",
       "      <td>Yes</td>\n",
       "      <td>0</td>\n",
       "      <td>Not Graduate</td>\n",
       "      <td>No</td>\n",
       "      <td>2583</td>\n",
       "      <td>2358.0</td>\n",
       "      <td>120.0</td>\n",
       "      <td>360.0</td>\n",
       "      <td>1.0</td>\n",
       "      <td>Urban</td>\n",
       "      <td>Y</td>\n",
       "    </tr>\n",
       "    <tr>\n",
       "      <th>4</th>\n",
       "      <td>LP001008</td>\n",
       "      <td>Male</td>\n",
       "      <td>No</td>\n",
       "      <td>0</td>\n",
       "      <td>Graduate</td>\n",
       "      <td>No</td>\n",
       "      <td>6000</td>\n",
       "      <td>0.0</td>\n",
       "      <td>141.0</td>\n",
       "      <td>360.0</td>\n",
       "      <td>1.0</td>\n",
       "      <td>Urban</td>\n",
       "      <td>Y</td>\n",
       "    </tr>\n",
       "  </tbody>\n",
       "</table>\n",
       "</div>"
      ],
      "text/plain": [
       "    Loan_ID Gender Married Dependents     Education Self_Employed  \\\n",
       "0  LP001002   Male      No          0      Graduate            No   \n",
       "1  LP001003   Male     Yes          1      Graduate            No   \n",
       "2  LP001005   Male     Yes          0      Graduate           Yes   \n",
       "3  LP001006   Male     Yes          0  Not Graduate            No   \n",
       "4  LP001008   Male      No          0      Graduate            No   \n",
       "\n",
       "   ApplicantIncome  CoapplicantIncome  LoanAmount  Loan_Amount_Term  \\\n",
       "0             5849                0.0         NaN             360.0   \n",
       "1             4583             1508.0       128.0             360.0   \n",
       "2             3000                0.0        66.0             360.0   \n",
       "3             2583             2358.0       120.0             360.0   \n",
       "4             6000                0.0       141.0             360.0   \n",
       "\n",
       "   Credit_History Property_Area Loan_Status  \n",
       "0             1.0         Urban           Y  \n",
       "1             1.0         Rural           N  \n",
       "2             1.0         Urban           Y  \n",
       "3             1.0         Urban           Y  \n",
       "4             1.0         Urban           Y  "
      ]
     },
     "execution_count": 4,
     "metadata": {},
     "output_type": "execute_result"
    }
   ],
   "source": [
    "#print first 5 rows of dataframe\n",
    "df.head()"
   ]
  },
  {
   "cell_type": "code",
   "execution_count": 5,
   "id": "2daded72",
   "metadata": {
    "execution": {
     "iopub.execute_input": "2023-08-01T17:42:20.795256Z",
     "iopub.status.busy": "2023-08-01T17:42:20.794092Z",
     "iopub.status.idle": "2023-08-01T17:42:20.800688Z",
     "shell.execute_reply": "2023-08-01T17:42:20.799861Z"
    },
    "papermill": {
     "duration": 0.026393,
     "end_time": "2023-08-01T17:42:20.803362",
     "exception": false,
     "start_time": "2023-08-01T17:42:20.776969",
     "status": "completed"
    },
    "tags": []
   },
   "outputs": [
    {
     "data": {
      "text/plain": [
       "(614, 13)"
      ]
     },
     "execution_count": 5,
     "metadata": {},
     "output_type": "execute_result"
    }
   ],
   "source": [
    "# number of rows and coloumns in dataset\n",
    "df.shape"
   ]
  },
  {
   "cell_type": "code",
   "execution_count": 6,
   "id": "3d2bddca",
   "metadata": {
    "execution": {
     "iopub.execute_input": "2023-08-01T17:42:20.837177Z",
     "iopub.status.busy": "2023-08-01T17:42:20.836673Z",
     "iopub.status.idle": "2023-08-01T17:42:20.874767Z",
     "shell.execute_reply": "2023-08-01T17:42:20.873451Z"
    },
    "papermill": {
     "duration": 0.058867,
     "end_time": "2023-08-01T17:42:20.877994",
     "exception": false,
     "start_time": "2023-08-01T17:42:20.819127",
     "status": "completed"
    },
    "tags": []
   },
   "outputs": [
    {
     "data": {
      "text/html": [
       "<div>\n",
       "<style scoped>\n",
       "    .dataframe tbody tr th:only-of-type {\n",
       "        vertical-align: middle;\n",
       "    }\n",
       "\n",
       "    .dataframe tbody tr th {\n",
       "        vertical-align: top;\n",
       "    }\n",
       "\n",
       "    .dataframe thead th {\n",
       "        text-align: right;\n",
       "    }\n",
       "</style>\n",
       "<table border=\"1\" class=\"dataframe\">\n",
       "  <thead>\n",
       "    <tr style=\"text-align: right;\">\n",
       "      <th></th>\n",
       "      <th>ApplicantIncome</th>\n",
       "      <th>CoapplicantIncome</th>\n",
       "      <th>LoanAmount</th>\n",
       "      <th>Loan_Amount_Term</th>\n",
       "      <th>Credit_History</th>\n",
       "    </tr>\n",
       "  </thead>\n",
       "  <tbody>\n",
       "    <tr>\n",
       "      <th>count</th>\n",
       "      <td>614.000000</td>\n",
       "      <td>614.000000</td>\n",
       "      <td>592.000000</td>\n",
       "      <td>600.00000</td>\n",
       "      <td>564.000000</td>\n",
       "    </tr>\n",
       "    <tr>\n",
       "      <th>mean</th>\n",
       "      <td>5403.459283</td>\n",
       "      <td>1621.245798</td>\n",
       "      <td>146.412162</td>\n",
       "      <td>342.00000</td>\n",
       "      <td>0.842199</td>\n",
       "    </tr>\n",
       "    <tr>\n",
       "      <th>std</th>\n",
       "      <td>6109.041673</td>\n",
       "      <td>2926.248369</td>\n",
       "      <td>85.587325</td>\n",
       "      <td>65.12041</td>\n",
       "      <td>0.364878</td>\n",
       "    </tr>\n",
       "    <tr>\n",
       "      <th>min</th>\n",
       "      <td>150.000000</td>\n",
       "      <td>0.000000</td>\n",
       "      <td>9.000000</td>\n",
       "      <td>12.00000</td>\n",
       "      <td>0.000000</td>\n",
       "    </tr>\n",
       "    <tr>\n",
       "      <th>25%</th>\n",
       "      <td>2877.500000</td>\n",
       "      <td>0.000000</td>\n",
       "      <td>100.000000</td>\n",
       "      <td>360.00000</td>\n",
       "      <td>1.000000</td>\n",
       "    </tr>\n",
       "    <tr>\n",
       "      <th>50%</th>\n",
       "      <td>3812.500000</td>\n",
       "      <td>1188.500000</td>\n",
       "      <td>128.000000</td>\n",
       "      <td>360.00000</td>\n",
       "      <td>1.000000</td>\n",
       "    </tr>\n",
       "    <tr>\n",
       "      <th>75%</th>\n",
       "      <td>5795.000000</td>\n",
       "      <td>2297.250000</td>\n",
       "      <td>168.000000</td>\n",
       "      <td>360.00000</td>\n",
       "      <td>1.000000</td>\n",
       "    </tr>\n",
       "    <tr>\n",
       "      <th>max</th>\n",
       "      <td>81000.000000</td>\n",
       "      <td>41667.000000</td>\n",
       "      <td>700.000000</td>\n",
       "      <td>480.00000</td>\n",
       "      <td>1.000000</td>\n",
       "    </tr>\n",
       "  </tbody>\n",
       "</table>\n",
       "</div>"
      ],
      "text/plain": [
       "       ApplicantIncome  CoapplicantIncome  LoanAmount  Loan_Amount_Term  \\\n",
       "count       614.000000         614.000000  592.000000         600.00000   \n",
       "mean       5403.459283        1621.245798  146.412162         342.00000   \n",
       "std        6109.041673        2926.248369   85.587325          65.12041   \n",
       "min         150.000000           0.000000    9.000000          12.00000   \n",
       "25%        2877.500000           0.000000  100.000000         360.00000   \n",
       "50%        3812.500000        1188.500000  128.000000         360.00000   \n",
       "75%        5795.000000        2297.250000  168.000000         360.00000   \n",
       "max       81000.000000       41667.000000  700.000000         480.00000   \n",
       "\n",
       "       Credit_History  \n",
       "count      564.000000  \n",
       "mean         0.842199  \n",
       "std          0.364878  \n",
       "min          0.000000  \n",
       "25%          1.000000  \n",
       "50%          1.000000  \n",
       "75%          1.000000  \n",
       "max          1.000000  "
      ]
     },
     "execution_count": 6,
     "metadata": {},
     "output_type": "execute_result"
    }
   ],
   "source": [
    "#statistics of the dataset\n",
    "df.describe()"
   ]
  },
  {
   "cell_type": "code",
   "execution_count": 7,
   "id": "33881c72",
   "metadata": {
    "execution": {
     "iopub.execute_input": "2023-08-01T17:42:20.912527Z",
     "iopub.status.busy": "2023-08-01T17:42:20.912120Z",
     "iopub.status.idle": "2023-08-01T17:42:20.925088Z",
     "shell.execute_reply": "2023-08-01T17:42:20.924208Z"
    },
    "papermill": {
     "duration": 0.033274,
     "end_time": "2023-08-01T17:42:20.927591",
     "exception": false,
     "start_time": "2023-08-01T17:42:20.894317",
     "status": "completed"
    },
    "tags": []
   },
   "outputs": [
    {
     "data": {
      "text/plain": [
       "Loan_ID               0\n",
       "Gender               13\n",
       "Married               3\n",
       "Dependents           15\n",
       "Education             0\n",
       "Self_Employed        32\n",
       "ApplicantIncome       0\n",
       "CoapplicantIncome     0\n",
       "LoanAmount           22\n",
       "Loan_Amount_Term     14\n",
       "Credit_History       50\n",
       "Property_Area         0\n",
       "Loan_Status           0\n",
       "dtype: int64"
      ]
     },
     "execution_count": 7,
     "metadata": {},
     "output_type": "execute_result"
    }
   ],
   "source": [
    "#count number of missing values in each column\n",
    "df.isnull().sum()"
   ]
  },
  {
   "cell_type": "code",
   "execution_count": 8,
   "id": "c0ba39c1",
   "metadata": {
    "execution": {
     "iopub.execute_input": "2023-08-01T17:42:20.964984Z",
     "iopub.status.busy": "2023-08-01T17:42:20.964486Z",
     "iopub.status.idle": "2023-08-01T17:42:20.976781Z",
     "shell.execute_reply": "2023-08-01T17:42:20.975717Z"
    },
    "papermill": {
     "duration": 0.034064,
     "end_time": "2023-08-01T17:42:20.979425",
     "exception": false,
     "start_time": "2023-08-01T17:42:20.945361",
     "status": "completed"
    },
    "tags": []
   },
   "outputs": [],
   "source": [
    "#dropping all the missing values \n",
    "df=df.dropna()"
   ]
  },
  {
   "cell_type": "code",
   "execution_count": 9,
   "id": "5ac83f71",
   "metadata": {
    "execution": {
     "iopub.execute_input": "2023-08-01T17:42:21.015011Z",
     "iopub.status.busy": "2023-08-01T17:42:21.013838Z",
     "iopub.status.idle": "2023-08-01T17:42:21.026775Z",
     "shell.execute_reply": "2023-08-01T17:42:21.025558Z"
    },
    "papermill": {
     "duration": 0.033673,
     "end_time": "2023-08-01T17:42:21.029541",
     "exception": false,
     "start_time": "2023-08-01T17:42:20.995868",
     "status": "completed"
    },
    "tags": []
   },
   "outputs": [
    {
     "data": {
      "text/plain": [
       "Loan_ID              0\n",
       "Gender               0\n",
       "Married              0\n",
       "Dependents           0\n",
       "Education            0\n",
       "Self_Employed        0\n",
       "ApplicantIncome      0\n",
       "CoapplicantIncome    0\n",
       "LoanAmount           0\n",
       "Loan_Amount_Term     0\n",
       "Credit_History       0\n",
       "Property_Area        0\n",
       "Loan_Status          0\n",
       "dtype: int64"
      ]
     },
     "execution_count": 9,
     "metadata": {},
     "output_type": "execute_result"
    }
   ],
   "source": [
    "#check missing values, if any\n",
    "df.isnull().sum()"
   ]
  },
  {
   "cell_type": "code",
   "execution_count": 10,
   "id": "8261422f",
   "metadata": {
    "execution": {
     "iopub.execute_input": "2023-08-01T17:42:21.065544Z",
     "iopub.status.busy": "2023-08-01T17:42:21.065119Z",
     "iopub.status.idle": "2023-08-01T17:42:21.073535Z",
     "shell.execute_reply": "2023-08-01T17:42:21.072084Z"
    },
    "papermill": {
     "duration": 0.029473,
     "end_time": "2023-08-01T17:42:21.076193",
     "exception": false,
     "start_time": "2023-08-01T17:42:21.046720",
     "status": "completed"
    },
    "tags": []
   },
   "outputs": [],
   "source": [
    "#label encoding to ease out the process, dictionary-key:value\n",
    "df.replace({\"Loan_Status\":{'N':0,'Y':1}},inplace=True)"
   ]
  },
  {
   "cell_type": "code",
   "execution_count": 11,
   "id": "e5cbd659",
   "metadata": {
    "execution": {
     "iopub.execute_input": "2023-08-01T17:42:21.111715Z",
     "iopub.status.busy": "2023-08-01T17:42:21.110993Z",
     "iopub.status.idle": "2023-08-01T17:42:21.130937Z",
     "shell.execute_reply": "2023-08-01T17:42:21.129697Z"
    },
    "papermill": {
     "duration": 0.041538,
     "end_time": "2023-08-01T17:42:21.134452",
     "exception": false,
     "start_time": "2023-08-01T17:42:21.092914",
     "status": "completed"
    },
    "tags": []
   },
   "outputs": [
    {
     "data": {
      "text/html": [
       "<div>\n",
       "<style scoped>\n",
       "    .dataframe tbody tr th:only-of-type {\n",
       "        vertical-align: middle;\n",
       "    }\n",
       "\n",
       "    .dataframe tbody tr th {\n",
       "        vertical-align: top;\n",
       "    }\n",
       "\n",
       "    .dataframe thead th {\n",
       "        text-align: right;\n",
       "    }\n",
       "</style>\n",
       "<table border=\"1\" class=\"dataframe\">\n",
       "  <thead>\n",
       "    <tr style=\"text-align: right;\">\n",
       "      <th></th>\n",
       "      <th>Loan_ID</th>\n",
       "      <th>Gender</th>\n",
       "      <th>Married</th>\n",
       "      <th>Dependents</th>\n",
       "      <th>Education</th>\n",
       "      <th>Self_Employed</th>\n",
       "      <th>ApplicantIncome</th>\n",
       "      <th>CoapplicantIncome</th>\n",
       "      <th>LoanAmount</th>\n",
       "      <th>Loan_Amount_Term</th>\n",
       "      <th>Credit_History</th>\n",
       "      <th>Property_Area</th>\n",
       "      <th>Loan_Status</th>\n",
       "    </tr>\n",
       "  </thead>\n",
       "  <tbody>\n",
       "    <tr>\n",
       "      <th>1</th>\n",
       "      <td>LP001003</td>\n",
       "      <td>Male</td>\n",
       "      <td>Yes</td>\n",
       "      <td>1</td>\n",
       "      <td>Graduate</td>\n",
       "      <td>No</td>\n",
       "      <td>4583</td>\n",
       "      <td>1508.0</td>\n",
       "      <td>128.0</td>\n",
       "      <td>360.0</td>\n",
       "      <td>1.0</td>\n",
       "      <td>Rural</td>\n",
       "      <td>0</td>\n",
       "    </tr>\n",
       "    <tr>\n",
       "      <th>2</th>\n",
       "      <td>LP001005</td>\n",
       "      <td>Male</td>\n",
       "      <td>Yes</td>\n",
       "      <td>0</td>\n",
       "      <td>Graduate</td>\n",
       "      <td>Yes</td>\n",
       "      <td>3000</td>\n",
       "      <td>0.0</td>\n",
       "      <td>66.0</td>\n",
       "      <td>360.0</td>\n",
       "      <td>1.0</td>\n",
       "      <td>Urban</td>\n",
       "      <td>1</td>\n",
       "    </tr>\n",
       "    <tr>\n",
       "      <th>3</th>\n",
       "      <td>LP001006</td>\n",
       "      <td>Male</td>\n",
       "      <td>Yes</td>\n",
       "      <td>0</td>\n",
       "      <td>Not Graduate</td>\n",
       "      <td>No</td>\n",
       "      <td>2583</td>\n",
       "      <td>2358.0</td>\n",
       "      <td>120.0</td>\n",
       "      <td>360.0</td>\n",
       "      <td>1.0</td>\n",
       "      <td>Urban</td>\n",
       "      <td>1</td>\n",
       "    </tr>\n",
       "    <tr>\n",
       "      <th>4</th>\n",
       "      <td>LP001008</td>\n",
       "      <td>Male</td>\n",
       "      <td>No</td>\n",
       "      <td>0</td>\n",
       "      <td>Graduate</td>\n",
       "      <td>No</td>\n",
       "      <td>6000</td>\n",
       "      <td>0.0</td>\n",
       "      <td>141.0</td>\n",
       "      <td>360.0</td>\n",
       "      <td>1.0</td>\n",
       "      <td>Urban</td>\n",
       "      <td>1</td>\n",
       "    </tr>\n",
       "    <tr>\n",
       "      <th>5</th>\n",
       "      <td>LP001011</td>\n",
       "      <td>Male</td>\n",
       "      <td>Yes</td>\n",
       "      <td>2</td>\n",
       "      <td>Graduate</td>\n",
       "      <td>Yes</td>\n",
       "      <td>5417</td>\n",
       "      <td>4196.0</td>\n",
       "      <td>267.0</td>\n",
       "      <td>360.0</td>\n",
       "      <td>1.0</td>\n",
       "      <td>Urban</td>\n",
       "      <td>1</td>\n",
       "    </tr>\n",
       "  </tbody>\n",
       "</table>\n",
       "</div>"
      ],
      "text/plain": [
       "    Loan_ID Gender Married Dependents     Education Self_Employed  \\\n",
       "1  LP001003   Male     Yes          1      Graduate            No   \n",
       "2  LP001005   Male     Yes          0      Graduate           Yes   \n",
       "3  LP001006   Male     Yes          0  Not Graduate            No   \n",
       "4  LP001008   Male      No          0      Graduate            No   \n",
       "5  LP001011   Male     Yes          2      Graduate           Yes   \n",
       "\n",
       "   ApplicantIncome  CoapplicantIncome  LoanAmount  Loan_Amount_Term  \\\n",
       "1             4583             1508.0       128.0             360.0   \n",
       "2             3000                0.0        66.0             360.0   \n",
       "3             2583             2358.0       120.0             360.0   \n",
       "4             6000                0.0       141.0             360.0   \n",
       "5             5417             4196.0       267.0             360.0   \n",
       "\n",
       "   Credit_History Property_Area  Loan_Status  \n",
       "1             1.0         Rural            0  \n",
       "2             1.0         Urban            1  \n",
       "3             1.0         Urban            1  \n",
       "4             1.0         Urban            1  \n",
       "5             1.0         Urban            1  "
      ]
     },
     "execution_count": 11,
     "metadata": {},
     "output_type": "execute_result"
    }
   ],
   "source": [
    "df.head()"
   ]
  },
  {
   "cell_type": "code",
   "execution_count": 12,
   "id": "c7174ae4",
   "metadata": {
    "execution": {
     "iopub.execute_input": "2023-08-01T17:42:21.170488Z",
     "iopub.status.busy": "2023-08-01T17:42:21.170076Z",
     "iopub.status.idle": "2023-08-01T17:42:21.184041Z",
     "shell.execute_reply": "2023-08-01T17:42:21.182532Z"
    },
    "papermill": {
     "duration": 0.035388,
     "end_time": "2023-08-01T17:42:21.187231",
     "exception": false,
     "start_time": "2023-08-01T17:42:21.151843",
     "status": "completed"
    },
    "tags": []
   },
   "outputs": [
    {
     "data": {
      "text/plain": [
       "0     274\n",
       "2      85\n",
       "1      80\n",
       "3+     41\n",
       "Name: Dependents, dtype: int64"
      ]
     },
     "execution_count": 12,
     "metadata": {},
     "output_type": "execute_result"
    }
   ],
   "source": [
    "#dependant column values\n",
    "df['Dependents'].value_counts()"
   ]
  },
  {
   "cell_type": "code",
   "execution_count": 13,
   "id": "1a4a2cb4",
   "metadata": {
    "execution": {
     "iopub.execute_input": "2023-08-01T17:42:21.223512Z",
     "iopub.status.busy": "2023-08-01T17:42:21.223071Z",
     "iopub.status.idle": "2023-08-01T17:42:21.231004Z",
     "shell.execute_reply": "2023-08-01T17:42:21.229360Z"
    },
    "papermill": {
     "duration": 0.029463,
     "end_time": "2023-08-01T17:42:21.233956",
     "exception": false,
     "start_time": "2023-08-01T17:42:21.204493",
     "status": "completed"
    },
    "tags": []
   },
   "outputs": [],
   "source": [
    "#replacing value of 3+ to 4, for more accurate output\n",
    "df= df.replace(to_replace='3+', value=4)"
   ]
  },
  {
   "cell_type": "code",
   "execution_count": 14,
   "id": "9a37cb80",
   "metadata": {
    "execution": {
     "iopub.execute_input": "2023-08-01T17:42:21.271424Z",
     "iopub.status.busy": "2023-08-01T17:42:21.270967Z",
     "iopub.status.idle": "2023-08-01T17:42:21.282215Z",
     "shell.execute_reply": "2023-08-01T17:42:21.280685Z"
    },
    "papermill": {
     "duration": 0.033367,
     "end_time": "2023-08-01T17:42:21.285114",
     "exception": false,
     "start_time": "2023-08-01T17:42:21.251747",
     "status": "completed"
    },
    "tags": []
   },
   "outputs": [
    {
     "data": {
      "text/plain": [
       "0    274\n",
       "2     85\n",
       "1     80\n",
       "4     41\n",
       "Name: Dependents, dtype: int64"
      ]
     },
     "execution_count": 14,
     "metadata": {},
     "output_type": "execute_result"
    }
   ],
   "source": [
    "#check dependent value\n",
    "df['Dependents'].value_counts()"
   ]
  },
  {
   "cell_type": "markdown",
   "id": "55cef043",
   "metadata": {
    "papermill": {
     "duration": 0.018081,
     "end_time": "2023-08-01T17:42:21.320990",
     "exception": false,
     "start_time": "2023-08-01T17:42:21.302909",
     "status": "completed"
    },
    "tags": []
   },
   "source": [
    "# Data Visualization"
   ]
  },
  {
   "cell_type": "code",
   "execution_count": 15,
   "id": "7f5f39c7",
   "metadata": {
    "execution": {
     "iopub.execute_input": "2023-08-01T17:42:21.358736Z",
     "iopub.status.busy": "2023-08-01T17:42:21.357642Z",
     "iopub.status.idle": "2023-08-01T17:42:21.717321Z",
     "shell.execute_reply": "2023-08-01T17:42:21.716214Z"
    },
    "papermill": {
     "duration": 0.382069,
     "end_time": "2023-08-01T17:42:21.720638",
     "exception": false,
     "start_time": "2023-08-01T17:42:21.338569",
     "status": "completed"
    },
    "tags": []
   },
   "outputs": [
    {
     "data": {
      "text/plain": [
       "<Axes: xlabel='Education', ylabel='count'>"
      ]
     },
     "execution_count": 15,
     "metadata": {},
     "output_type": "execute_result"
    },
    {
     "data": {
      "image/png": "[encoded data removed]",
      "text/plain": [
       "<Figure size 640x480 with 1 Axes>"
      ]
     },
     "metadata": {},
     "output_type": "display_data"
    }
   ],
   "source": [
    "#education vs Loan Status\n",
    "sns.countplot(x='Education', hue='Loan_Status', data=df)"
   ]
  },
  {
   "cell_type": "code",
   "execution_count": 16,
   "id": "5817b2f3",
   "metadata": {
    "execution": {
     "iopub.execute_input": "2023-08-01T17:42:21.761512Z",
     "iopub.status.busy": "2023-08-01T17:42:21.760821Z",
     "iopub.status.idle": "2023-08-01T17:42:22.058537Z",
     "shell.execute_reply": "2023-08-01T17:42:22.056851Z"
    },
    "papermill": {
     "duration": 0.320355,
     "end_time": "2023-08-01T17:42:22.061451",
     "exception": false,
     "start_time": "2023-08-01T17:42:21.741096",
     "status": "completed"
    },
    "tags": []
   },
   "outputs": [
    {
     "data": {
      "text/plain": [
       "<Axes: xlabel='Married', ylabel='count'>"
      ]
     },
     "execution_count": 16,
     "metadata": {},
     "output_type": "execute_result"
    },
    {
     "data": {
      "image/png": "[encoded data removed]",
      "text/plain": [
       "<Figure size 640x480 with 1 Axes>"
      ]
     },
     "metadata": {},
     "output_type": "display_data"
    }
   ],
   "source": [
    "#marital status vs loan status\n",
    "sns.countplot(x='Married', hue='Loan_Status', data=df)"
   ]
  },
  {
   "cell_type": "code",
   "execution_count": 17,
   "id": "02122a6a",
   "metadata": {
    "execution": {
     "iopub.execute_input": "2023-08-01T17:42:22.101636Z",
     "iopub.status.busy": "2023-08-01T17:42:22.101181Z",
     "iopub.status.idle": "2023-08-01T17:42:22.406359Z",
     "shell.execute_reply": "2023-08-01T17:42:22.404480Z"
    },
    "papermill": {
     "duration": 0.328741,
     "end_time": "2023-08-01T17:42:22.409701",
     "exception": false,
     "start_time": "2023-08-01T17:42:22.080960",
     "status": "completed"
    },
    "tags": []
   },
   "outputs": [
    {
     "data": {
      "text/plain": [
       "<Axes: xlabel='Gender', ylabel='count'>"
      ]
     },
     "execution_count": 17,
     "metadata": {},
     "output_type": "execute_result"
    },
    {
     "data": {
      "image/png": "[encoded data removed]",
      "text/plain": [
       "<Figure size 640x480 with 1 Axes>"
      ]
     },
     "metadata": {},
     "output_type": "display_data"
    }
   ],
   "source": [
    "#gender vs loan status\n",
    "sns.countplot(x='Gender', hue='Loan_Status', data=df)"
   ]
  },
  {
   "cell_type": "code",
   "execution_count": 18,
   "id": "8302f65a",
   "metadata": {
    "execution": {
     "iopub.execute_input": "2023-08-01T17:42:22.451574Z",
     "iopub.status.busy": "2023-08-01T17:42:22.451041Z",
     "iopub.status.idle": "2023-08-01T17:42:22.491043Z",
     "shell.execute_reply": "2023-08-01T17:42:22.489575Z"
    },
    "papermill": {
     "duration": 0.064696,
     "end_time": "2023-08-01T17:42:22.494133",
     "exception": false,
     "start_time": "2023-08-01T17:42:22.429437",
     "status": "completed"
    },
    "tags": []
   },
   "outputs": [
    {
     "data": {
      "text/html": [
       "<div>\n",
       "<style scoped>\n",
       "    .dataframe tbody tr th:only-of-type {\n",
       "        vertical-align: middle;\n",
       "    }\n",
       "\n",
       "    .dataframe tbody tr th {\n",
       "        vertical-align: top;\n",
       "    }\n",
       "\n",
       "    .dataframe thead th {\n",
       "        text-align: right;\n",
       "    }\n",
       "</style>\n",
       "<table border=\"1\" class=\"dataframe\">\n",
       "  <thead>\n",
       "    <tr style=\"text-align: right;\">\n",
       "      <th></th>\n",
       "      <th>Loan_ID</th>\n",
       "      <th>Gender</th>\n",
       "      <th>Married</th>\n",
       "      <th>Dependents</th>\n",
       "      <th>Education</th>\n",
       "      <th>Self_Employed</th>\n",
       "      <th>ApplicantIncome</th>\n",
       "      <th>CoapplicantIncome</th>\n",
       "      <th>LoanAmount</th>\n",
       "      <th>Loan_Amount_Term</th>\n",
       "      <th>Credit_History</th>\n",
       "      <th>Property_Area</th>\n",
       "      <th>Loan_Status</th>\n",
       "    </tr>\n",
       "  </thead>\n",
       "  <tbody>\n",
       "    <tr>\n",
       "      <th>1</th>\n",
       "      <td>LP001003</td>\n",
       "      <td>1</td>\n",
       "      <td>1</td>\n",
       "      <td>1</td>\n",
       "      <td>1</td>\n",
       "      <td>0</td>\n",
       "      <td>4583</td>\n",
       "      <td>1508.0</td>\n",
       "      <td>128.0</td>\n",
       "      <td>360.0</td>\n",
       "      <td>1.0</td>\n",
       "      <td>0</td>\n",
       "      <td>0</td>\n",
       "    </tr>\n",
       "    <tr>\n",
       "      <th>2</th>\n",
       "      <td>LP001005</td>\n",
       "      <td>1</td>\n",
       "      <td>1</td>\n",
       "      <td>0</td>\n",
       "      <td>1</td>\n",
       "      <td>1</td>\n",
       "      <td>3000</td>\n",
       "      <td>0.0</td>\n",
       "      <td>66.0</td>\n",
       "      <td>360.0</td>\n",
       "      <td>1.0</td>\n",
       "      <td>2</td>\n",
       "      <td>1</td>\n",
       "    </tr>\n",
       "    <tr>\n",
       "      <th>3</th>\n",
       "      <td>LP001006</td>\n",
       "      <td>1</td>\n",
       "      <td>1</td>\n",
       "      <td>0</td>\n",
       "      <td>0</td>\n",
       "      <td>0</td>\n",
       "      <td>2583</td>\n",
       "      <td>2358.0</td>\n",
       "      <td>120.0</td>\n",
       "      <td>360.0</td>\n",
       "      <td>1.0</td>\n",
       "      <td>2</td>\n",
       "      <td>1</td>\n",
       "    </tr>\n",
       "    <tr>\n",
       "      <th>4</th>\n",
       "      <td>LP001008</td>\n",
       "      <td>1</td>\n",
       "      <td>0</td>\n",
       "      <td>0</td>\n",
       "      <td>1</td>\n",
       "      <td>0</td>\n",
       "      <td>6000</td>\n",
       "      <td>0.0</td>\n",
       "      <td>141.0</td>\n",
       "      <td>360.0</td>\n",
       "      <td>1.0</td>\n",
       "      <td>2</td>\n",
       "      <td>1</td>\n",
       "    </tr>\n",
       "    <tr>\n",
       "      <th>5</th>\n",
       "      <td>LP001011</td>\n",
       "      <td>1</td>\n",
       "      <td>1</td>\n",
       "      <td>2</td>\n",
       "      <td>1</td>\n",
       "      <td>1</td>\n",
       "      <td>5417</td>\n",
       "      <td>4196.0</td>\n",
       "      <td>267.0</td>\n",
       "      <td>360.0</td>\n",
       "      <td>1.0</td>\n",
       "      <td>2</td>\n",
       "      <td>1</td>\n",
       "    </tr>\n",
       "    <tr>\n",
       "      <th>...</th>\n",
       "      <td>...</td>\n",
       "      <td>...</td>\n",
       "      <td>...</td>\n",
       "      <td>...</td>\n",
       "      <td>...</td>\n",
       "      <td>...</td>\n",
       "      <td>...</td>\n",
       "      <td>...</td>\n",
       "      <td>...</td>\n",
       "      <td>...</td>\n",
       "      <td>...</td>\n",
       "      <td>...</td>\n",
       "      <td>...</td>\n",
       "    </tr>\n",
       "    <tr>\n",
       "      <th>609</th>\n",
       "      <td>LP002978</td>\n",
       "      <td>0</td>\n",
       "      <td>0</td>\n",
       "      <td>0</td>\n",
       "      <td>1</td>\n",
       "      <td>0</td>\n",
       "      <td>2900</td>\n",
       "      <td>0.0</td>\n",
       "      <td>71.0</td>\n",
       "      <td>360.0</td>\n",
       "      <td>1.0</td>\n",
       "      <td>0</td>\n",
       "      <td>1</td>\n",
       "    </tr>\n",
       "    <tr>\n",
       "      <th>610</th>\n",
       "      <td>LP002979</td>\n",
       "      <td>1</td>\n",
       "      <td>1</td>\n",
       "      <td>4</td>\n",
       "      <td>1</td>\n",
       "      <td>0</td>\n",
       "      <td>4106</td>\n",
       "      <td>0.0</td>\n",
       "      <td>40.0</td>\n",
       "      <td>180.0</td>\n",
       "      <td>1.0</td>\n",
       "      <td>0</td>\n",
       "      <td>1</td>\n",
       "    </tr>\n",
       "    <tr>\n",
       "      <th>611</th>\n",
       "      <td>LP002983</td>\n",
       "      <td>1</td>\n",
       "      <td>1</td>\n",
       "      <td>1</td>\n",
       "      <td>1</td>\n",
       "      <td>0</td>\n",
       "      <td>8072</td>\n",
       "      <td>240.0</td>\n",
       "      <td>253.0</td>\n",
       "      <td>360.0</td>\n",
       "      <td>1.0</td>\n",
       "      <td>2</td>\n",
       "      <td>1</td>\n",
       "    </tr>\n",
       "    <tr>\n",
       "      <th>612</th>\n",
       "      <td>LP002984</td>\n",
       "      <td>1</td>\n",
       "      <td>1</td>\n",
       "      <td>2</td>\n",
       "      <td>1</td>\n",
       "      <td>0</td>\n",
       "      <td>7583</td>\n",
       "      <td>0.0</td>\n",
       "      <td>187.0</td>\n",
       "      <td>360.0</td>\n",
       "      <td>1.0</td>\n",
       "      <td>2</td>\n",
       "      <td>1</td>\n",
       "    </tr>\n",
       "    <tr>\n",
       "      <th>613</th>\n",
       "      <td>LP002990</td>\n",
       "      <td>0</td>\n",
       "      <td>0</td>\n",
       "      <td>0</td>\n",
       "      <td>1</td>\n",
       "      <td>1</td>\n",
       "      <td>4583</td>\n",
       "      <td>0.0</td>\n",
       "      <td>133.0</td>\n",
       "      <td>360.0</td>\n",
       "      <td>0.0</td>\n",
       "      <td>1</td>\n",
       "      <td>0</td>\n",
       "    </tr>\n",
       "  </tbody>\n",
       "</table>\n",
       "<p>480 rows × 13 columns</p>\n",
       "</div>"
      ],
      "text/plain": [
       "      Loan_ID  Gender  Married Dependents  Education  Self_Employed  \\\n",
       "1    LP001003       1        1          1          1              0   \n",
       "2    LP001005       1        1          0          1              1   \n",
       "3    LP001006       1        1          0          0              0   \n",
       "4    LP001008       1        0          0          1              0   \n",
       "5    LP001011       1        1          2          1              1   \n",
       "..        ...     ...      ...        ...        ...            ...   \n",
       "609  LP002978       0        0          0          1              0   \n",
       "610  LP002979       1        1          4          1              0   \n",
       "611  LP002983       1        1          1          1              0   \n",
       "612  LP002984       1        1          2          1              0   \n",
       "613  LP002990       0        0          0          1              1   \n",
       "\n",
       "     ApplicantIncome  CoapplicantIncome  LoanAmount  Loan_Amount_Term  \\\n",
       "1               4583             1508.0       128.0             360.0   \n",
       "2               3000                0.0        66.0             360.0   \n",
       "3               2583             2358.0       120.0             360.0   \n",
       "4               6000                0.0       141.0             360.0   \n",
       "5               5417             4196.0       267.0             360.0   \n",
       "..               ...                ...         ...               ...   \n",
       "609             2900                0.0        71.0             360.0   \n",
       "610             4106                0.0        40.0             180.0   \n",
       "611             8072              240.0       253.0             360.0   \n",
       "612             7583                0.0       187.0             360.0   \n",
       "613             4583                0.0       133.0             360.0   \n",
       "\n",
       "     Credit_History  Property_Area  Loan_Status  \n",
       "1               1.0              0            0  \n",
       "2               1.0              2            1  \n",
       "3               1.0              2            1  \n",
       "4               1.0              2            1  \n",
       "5               1.0              2            1  \n",
       "..              ...            ...          ...  \n",
       "609             1.0              0            1  \n",
       "610             1.0              0            1  \n",
       "611             1.0              2            1  \n",
       "612             1.0              2            1  \n",
       "613             0.0              1            0  \n",
       "\n",
       "[480 rows x 13 columns]"
      ]
     },
     "execution_count": 18,
     "metadata": {},
     "output_type": "execute_result"
    }
   ],
   "source": [
    "#convert categorial columns to numerical values\n",
    "df.replace({\"Married\":{'No':0,'Yes':1},\"Gender\":{'Female':0,'Male':1},\"Self_Employed\":{'No':0,'Yes':1},\"Property_Area\":{'Rural':0,'Semiurban':1, 'Urban':2}, \"Education\":{'Not Graduate':0,'Graduate':1} },inplace=True)\n",
    "df"
   ]
  },
  {
   "cell_type": "code",
   "execution_count": 19,
   "id": "d93589c1",
   "metadata": {
    "execution": {
     "iopub.execute_input": "2023-08-01T17:42:22.536049Z",
     "iopub.status.busy": "2023-08-01T17:42:22.535555Z",
     "iopub.status.idle": "2023-08-01T17:42:22.543975Z",
     "shell.execute_reply": "2023-08-01T17:42:22.542383Z"
    },
    "papermill": {
     "duration": 0.032908,
     "end_time": "2023-08-01T17:42:22.546880",
     "exception": false,
     "start_time": "2023-08-01T17:42:22.513972",
     "status": "completed"
    },
    "tags": []
   },
   "outputs": [],
   "source": [
    "#seperating the data and label\n",
    "X=df.drop(columns=['Loan_ID','Loan_Status'],axis=1) #store all the data except label\n",
    "Y=df['Loan_Status']                                 #store label values"
   ]
  },
  {
   "cell_type": "code",
   "execution_count": 20,
   "id": "d2354e85",
   "metadata": {
    "execution": {
     "iopub.execute_input": "2023-08-01T17:42:22.590945Z",
     "iopub.status.busy": "2023-08-01T17:42:22.590459Z",
     "iopub.status.idle": "2023-08-01T17:42:22.608716Z",
     "shell.execute_reply": "2023-08-01T17:42:22.607047Z"
    },
    "papermill": {
     "duration": 0.043912,
     "end_time": "2023-08-01T17:42:22.612480",
     "exception": false,
     "start_time": "2023-08-01T17:42:22.568568",
     "status": "completed"
    },
    "tags": []
   },
   "outputs": [
    {
     "name": "stdout",
     "output_type": "stream",
     "text": [
      "     Gender  Married Dependents  Education  Self_Employed  ApplicantIncome  \\\n",
      "1         1        1          1          1              0             4583   \n",
      "2         1        1          0          1              1             3000   \n",
      "3         1        1          0          0              0             2583   \n",
      "4         1        0          0          1              0             6000   \n",
      "5         1        1          2          1              1             5417   \n",
      "..      ...      ...        ...        ...            ...              ...   \n",
      "609       0        0          0          1              0             2900   \n",
      "610       1        1          4          1              0             4106   \n",
      "611       1        1          1          1              0             8072   \n",
      "612       1        1          2          1              0             7583   \n",
      "613       0        0          0          1              1             4583   \n",
      "\n",
      "     CoapplicantIncome  LoanAmount  Loan_Amount_Term  Credit_History  \\\n",
      "1               1508.0       128.0             360.0             1.0   \n",
      "2                  0.0        66.0             360.0             1.0   \n",
      "3               2358.0       120.0             360.0             1.0   \n",
      "4                  0.0       141.0             360.0             1.0   \n",
      "5               4196.0       267.0             360.0             1.0   \n",
      "..                 ...         ...               ...             ...   \n",
      "609                0.0        71.0             360.0             1.0   \n",
      "610                0.0        40.0             180.0             1.0   \n",
      "611              240.0       253.0             360.0             1.0   \n",
      "612                0.0       187.0             360.0             1.0   \n",
      "613                0.0       133.0             360.0             0.0   \n",
      "\n",
      "     Property_Area  \n",
      "1                0  \n",
      "2                2  \n",
      "3                2  \n",
      "4                2  \n",
      "5                2  \n",
      "..             ...  \n",
      "609              0  \n",
      "610              0  \n",
      "611              2  \n",
      "612              2  \n",
      "613              1  \n",
      "\n",
      "[480 rows x 11 columns]\n",
      "1      0\n",
      "2      1\n",
      "3      1\n",
      "4      1\n",
      "5      1\n",
      "      ..\n",
      "609    1\n",
      "610    1\n",
      "611    1\n",
      "612    1\n",
      "613    0\n",
      "Name: Loan_Status, Length: 480, dtype: int64\n"
     ]
    }
   ],
   "source": [
    "print(X)\n",
    "print(Y)"
   ]
  },
  {
   "cell_type": "markdown",
   "id": "3a83cc16",
   "metadata": {
    "papermill": {
     "duration": 0.020982,
     "end_time": "2023-08-01T17:42:22.655742",
     "exception": false,
     "start_time": "2023-08-01T17:42:22.634760",
     "status": "completed"
    },
    "tags": []
   },
   "source": [
    "# Split into Training data and testing data"
   ]
  },
  {
   "cell_type": "code",
   "execution_count": 21,
   "id": "8f110554",
   "metadata": {
    "execution": {
     "iopub.execute_input": "2023-08-01T17:42:22.696945Z",
     "iopub.status.busy": "2023-08-01T17:42:22.696465Z",
     "iopub.status.idle": "2023-08-01T17:42:22.708016Z",
     "shell.execute_reply": "2023-08-01T17:42:22.706641Z"
    },
    "papermill": {
     "duration": 0.035619,
     "end_time": "2023-08-01T17:42:22.710759",
     "exception": false,
     "start_time": "2023-08-01T17:42:22.675140",
     "status": "completed"
    },
    "tags": []
   },
   "outputs": [],
   "source": [
    "X_train,X_test,Y_train,Y_test=train_test_split(X,Y,test_size=0.2,stratify=Y,random_state=2) #stratify= equally splitted, random_state=same way split"
   ]
  },
  {
   "cell_type": "code",
   "execution_count": 22,
   "id": "152252f7",
   "metadata": {
    "execution": {
     "iopub.execute_input": "2023-08-01T17:42:22.753394Z",
     "iopub.status.busy": "2023-08-01T17:42:22.752844Z",
     "iopub.status.idle": "2023-08-01T17:42:22.759860Z",
     "shell.execute_reply": "2023-08-01T17:42:22.758424Z"
    },
    "papermill": {
     "duration": 0.033143,
     "end_time": "2023-08-01T17:42:22.763371",
     "exception": false,
     "start_time": "2023-08-01T17:42:22.730228",
     "status": "completed"
    },
    "tags": []
   },
   "outputs": [
    {
     "name": "stdout",
     "output_type": "stream",
     "text": [
      "(480, 11) (384, 11) (96, 11)\n"
     ]
    }
   ],
   "source": [
    "print(X.shape,X_train.shape,X_test.shape)"
   ]
  },
  {
   "cell_type": "markdown",
   "id": "818b3c3c",
   "metadata": {
    "papermill": {
     "duration": 0.019421,
     "end_time": "2023-08-01T17:42:22.802700",
     "exception": false,
     "start_time": "2023-08-01T17:42:22.783279",
     "status": "completed"
    },
    "tags": []
   },
   "source": [
    "# Training the model:\n",
    "Support Vector Machine Model"
   ]
  },
  {
   "cell_type": "code",
   "execution_count": 23,
   "id": "c8feec02",
   "metadata": {
    "execution": {
     "iopub.execute_input": "2023-08-01T17:42:22.850031Z",
     "iopub.status.busy": "2023-08-01T17:42:22.849482Z",
     "iopub.status.idle": "2023-08-01T17:42:22.855354Z",
     "shell.execute_reply": "2023-08-01T17:42:22.854151Z"
    },
    "papermill": {
     "duration": 0.032179,
     "end_time": "2023-08-01T17:42:22.858052",
     "exception": false,
     "start_time": "2023-08-01T17:42:22.825873",
     "status": "completed"
    },
    "tags": []
   },
   "outputs": [],
   "source": [
    "cols = ['ApplicantIncome','CoapplicantIncome','LoanAmount','Loan_Amount_Term']"
   ]
  },
  {
   "cell_type": "code",
   "execution_count": 24,
   "id": "ec2756bb",
   "metadata": {
    "execution": {
     "iopub.execute_input": "2023-08-01T17:42:22.915024Z",
     "iopub.status.busy": "2023-08-01T17:42:22.913782Z",
     "iopub.status.idle": "2023-08-01T17:42:22.927338Z",
     "shell.execute_reply": "2023-08-01T17:42:22.926289Z"
    },
    "papermill": {
     "duration": 0.046596,
     "end_time": "2023-08-01T17:42:22.930758",
     "exception": false,
     "start_time": "2023-08-01T17:42:22.884162",
     "status": "completed"
    },
    "tags": []
   },
   "outputs": [],
   "source": [
    "from sklearn.preprocessing import StandardScaler\n",
    "st = StandardScaler()\n",
    "X[cols]=st.fit_transform(X[cols])"
   ]
  },
  {
   "cell_type": "code",
   "execution_count": 25,
   "id": "136c08f0",
   "metadata": {
    "execution": {
     "iopub.execute_input": "2023-08-01T17:42:22.977263Z",
     "iopub.status.busy": "2023-08-01T17:42:22.976339Z",
     "iopub.status.idle": "2023-08-01T17:42:23.001016Z",
     "shell.execute_reply": "2023-08-01T17:42:22.999804Z"
    },
    "papermill": {
     "duration": 0.049405,
     "end_time": "2023-08-01T17:42:23.003846",
     "exception": false,
     "start_time": "2023-08-01T17:42:22.954441",
     "status": "completed"
    },
    "tags": []
   },
   "outputs": [
    {
     "data": {
      "text/html": [
       "<div>\n",
       "<style scoped>\n",
       "    .dataframe tbody tr th:only-of-type {\n",
       "        vertical-align: middle;\n",
       "    }\n",
       "\n",
       "    .dataframe tbody tr th {\n",
       "        vertical-align: top;\n",
       "    }\n",
       "\n",
       "    .dataframe thead th {\n",
       "        text-align: right;\n",
       "    }\n",
       "</style>\n",
       "<table border=\"1\" class=\"dataframe\">\n",
       "  <thead>\n",
       "    <tr style=\"text-align: right;\">\n",
       "      <th></th>\n",
       "      <th>Gender</th>\n",
       "      <th>Married</th>\n",
       "      <th>Dependents</th>\n",
       "      <th>Education</th>\n",
       "      <th>Self_Employed</th>\n",
       "      <th>ApplicantIncome</th>\n",
       "      <th>CoapplicantIncome</th>\n",
       "      <th>LoanAmount</th>\n",
       "      <th>Loan_Amount_Term</th>\n",
       "      <th>Credit_History</th>\n",
       "      <th>Property_Area</th>\n",
       "    </tr>\n",
       "  </thead>\n",
       "  <tbody>\n",
       "    <tr>\n",
       "      <th>1</th>\n",
       "      <td>1</td>\n",
       "      <td>1</td>\n",
       "      <td>1</td>\n",
       "      <td>1</td>\n",
       "      <td>0</td>\n",
       "      <td>-0.137970</td>\n",
       "      <td>-0.027952</td>\n",
       "      <td>-0.208089</td>\n",
       "      <td>0.275542</td>\n",
       "      <td>1.0</td>\n",
       "      <td>0</td>\n",
       "    </tr>\n",
       "    <tr>\n",
       "      <th>2</th>\n",
       "      <td>1</td>\n",
       "      <td>1</td>\n",
       "      <td>0</td>\n",
       "      <td>1</td>\n",
       "      <td>1</td>\n",
       "      <td>-0.417536</td>\n",
       "      <td>-0.604633</td>\n",
       "      <td>-0.979001</td>\n",
       "      <td>0.275542</td>\n",
       "      <td>1.0</td>\n",
       "      <td>2</td>\n",
       "    </tr>\n",
       "    <tr>\n",
       "      <th>3</th>\n",
       "      <td>1</td>\n",
       "      <td>1</td>\n",
       "      <td>0</td>\n",
       "      <td>0</td>\n",
       "      <td>0</td>\n",
       "      <td>-0.491180</td>\n",
       "      <td>0.297100</td>\n",
       "      <td>-0.307562</td>\n",
       "      <td>0.275542</td>\n",
       "      <td>1.0</td>\n",
       "      <td>2</td>\n",
       "    </tr>\n",
       "    <tr>\n",
       "      <th>4</th>\n",
       "      <td>1</td>\n",
       "      <td>0</td>\n",
       "      <td>0</td>\n",
       "      <td>1</td>\n",
       "      <td>0</td>\n",
       "      <td>0.112280</td>\n",
       "      <td>-0.604633</td>\n",
       "      <td>-0.046446</td>\n",
       "      <td>0.275542</td>\n",
       "      <td>1.0</td>\n",
       "      <td>2</td>\n",
       "    </tr>\n",
       "    <tr>\n",
       "      <th>5</th>\n",
       "      <td>1</td>\n",
       "      <td>1</td>\n",
       "      <td>2</td>\n",
       "      <td>1</td>\n",
       "      <td>1</td>\n",
       "      <td>0.009319</td>\n",
       "      <td>0.999978</td>\n",
       "      <td>1.520245</td>\n",
       "      <td>0.275542</td>\n",
       "      <td>1.0</td>\n",
       "      <td>2</td>\n",
       "    </tr>\n",
       "    <tr>\n",
       "      <th>...</th>\n",
       "      <td>...</td>\n",
       "      <td>...</td>\n",
       "      <td>...</td>\n",
       "      <td>...</td>\n",
       "      <td>...</td>\n",
       "      <td>...</td>\n",
       "      <td>...</td>\n",
       "      <td>...</td>\n",
       "      <td>...</td>\n",
       "      <td>...</td>\n",
       "      <td>...</td>\n",
       "    </tr>\n",
       "    <tr>\n",
       "      <th>609</th>\n",
       "      <td>0</td>\n",
       "      <td>0</td>\n",
       "      <td>0</td>\n",
       "      <td>1</td>\n",
       "      <td>0</td>\n",
       "      <td>-0.435196</td>\n",
       "      <td>-0.604633</td>\n",
       "      <td>-0.916831</td>\n",
       "      <td>0.275542</td>\n",
       "      <td>1.0</td>\n",
       "      <td>0</td>\n",
       "    </tr>\n",
       "    <tr>\n",
       "      <th>610</th>\n",
       "      <td>1</td>\n",
       "      <td>1</td>\n",
       "      <td>4</td>\n",
       "      <td>1</td>\n",
       "      <td>0</td>\n",
       "      <td>-0.222210</td>\n",
       "      <td>-0.604633</td>\n",
       "      <td>-1.302286</td>\n",
       "      <td>-2.487549</td>\n",
       "      <td>1.0</td>\n",
       "      <td>0</td>\n",
       "    </tr>\n",
       "    <tr>\n",
       "      <th>611</th>\n",
       "      <td>1</td>\n",
       "      <td>1</td>\n",
       "      <td>1</td>\n",
       "      <td>1</td>\n",
       "      <td>0</td>\n",
       "      <td>0.478206</td>\n",
       "      <td>-0.512854</td>\n",
       "      <td>1.346168</td>\n",
       "      <td>0.275542</td>\n",
       "      <td>1.0</td>\n",
       "      <td>2</td>\n",
       "    </tr>\n",
       "    <tr>\n",
       "      <th>612</th>\n",
       "      <td>1</td>\n",
       "      <td>1</td>\n",
       "      <td>2</td>\n",
       "      <td>1</td>\n",
       "      <td>0</td>\n",
       "      <td>0.391846</td>\n",
       "      <td>-0.604633</td>\n",
       "      <td>0.525520</td>\n",
       "      <td>0.275542</td>\n",
       "      <td>1.0</td>\n",
       "      <td>2</td>\n",
       "    </tr>\n",
       "    <tr>\n",
       "      <th>613</th>\n",
       "      <td>0</td>\n",
       "      <td>0</td>\n",
       "      <td>0</td>\n",
       "      <td>1</td>\n",
       "      <td>1</td>\n",
       "      <td>-0.137970</td>\n",
       "      <td>-0.604633</td>\n",
       "      <td>-0.145919</td>\n",
       "      <td>0.275542</td>\n",
       "      <td>0.0</td>\n",
       "      <td>1</td>\n",
       "    </tr>\n",
       "  </tbody>\n",
       "</table>\n",
       "<p>480 rows × 11 columns</p>\n",
       "</div>"
      ],
      "text/plain": [
       "     Gender  Married Dependents  Education  Self_Employed  ApplicantIncome  \\\n",
       "1         1        1          1          1              0        -0.137970   \n",
       "2         1        1          0          1              1        -0.417536   \n",
       "3         1        1          0          0              0        -0.491180   \n",
       "4         1        0          0          1              0         0.112280   \n",
       "5         1        1          2          1              1         0.009319   \n",
       "..      ...      ...        ...        ...            ...              ...   \n",
       "609       0        0          0          1              0        -0.435196   \n",
       "610       1        1          4          1              0        -0.222210   \n",
       "611       1        1          1          1              0         0.478206   \n",
       "612       1        1          2          1              0         0.391846   \n",
       "613       0        0          0          1              1        -0.137970   \n",
       "\n",
       "     CoapplicantIncome  LoanAmount  Loan_Amount_Term  Credit_History  \\\n",
       "1            -0.027952   -0.208089          0.275542             1.0   \n",
       "2            -0.604633   -0.979001          0.275542             1.0   \n",
       "3             0.297100   -0.307562          0.275542             1.0   \n",
       "4            -0.604633   -0.046446          0.275542             1.0   \n",
       "5             0.999978    1.520245          0.275542             1.0   \n",
       "..                 ...         ...               ...             ...   \n",
       "609          -0.604633   -0.916831          0.275542             1.0   \n",
       "610          -0.604633   -1.302286         -2.487549             1.0   \n",
       "611          -0.512854    1.346168          0.275542             1.0   \n",
       "612          -0.604633    0.525520          0.275542             1.0   \n",
       "613          -0.604633   -0.145919          0.275542             0.0   \n",
       "\n",
       "     Property_Area  \n",
       "1                0  \n",
       "2                2  \n",
       "3                2  \n",
       "4                2  \n",
       "5                2  \n",
       "..             ...  \n",
       "609              0  \n",
       "610              0  \n",
       "611              2  \n",
       "612              2  \n",
       "613              1  \n",
       "\n",
       "[480 rows x 11 columns]"
      ]
     },
     "execution_count": 25,
     "metadata": {},
     "output_type": "execute_result"
    }
   ],
   "source": [
    "X"
   ]
  },
  {
   "cell_type": "markdown",
   "id": "1bf61da5",
   "metadata": {
    "papermill": {
     "duration": 0.021016,
     "end_time": "2023-08-01T17:42:23.046118",
     "exception": false,
     "start_time": "2023-08-01T17:42:23.025102",
     "status": "completed"
    },
    "tags": []
   },
   "source": [
    "# Model Evaluation"
   ]
  },
  {
   "cell_type": "code",
   "execution_count": 26,
   "id": "eb6c2f96",
   "metadata": {
    "execution": {
     "iopub.execute_input": "2023-08-01T17:42:23.091955Z",
     "iopub.status.busy": "2023-08-01T17:42:23.091044Z",
     "iopub.status.idle": "2023-08-01T17:42:23.098655Z",
     "shell.execute_reply": "2023-08-01T17:42:23.097754Z"
    },
    "papermill": {
     "duration": 0.033644,
     "end_time": "2023-08-01T17:42:23.101390",
     "exception": false,
     "start_time": "2023-08-01T17:42:23.067746",
     "status": "completed"
    },
    "tags": []
   },
   "outputs": [],
   "source": [
    "#check different algorithms and compare the test results\n",
    "model_df={}\n",
    "def model_val(model,X,Y):\n",
    "    X_train,X_test,Y_train,Y_test=train_test_split(X,Y,\n",
    "                                                   test_size=0.20,\n",
    "                                                   random_state=42)\n",
    "    model.fit(X_train,Y_train)\n",
    "    Y_pred=model.predict(X_test)\n",
    "    print(f\"{model} accuracy is {accuracy_score(Y_test,Y_pred)}\")\n",
    "    \n",
    "    score = cross_val_score(model,X,Y,cv=5)\n",
    "    print(f\"{model} Avg cross val score is {np.mean(score)}\")\n",
    "    model_df[model]=round(np.mean(score)*100,2)"
   ]
  },
  {
   "cell_type": "markdown",
   "id": "b653dd13",
   "metadata": {
    "papermill": {
     "duration": 0.020125,
     "end_time": "2023-08-01T17:42:23.142026",
     "exception": false,
     "start_time": "2023-08-01T17:42:23.121901",
     "status": "completed"
    },
    "tags": []
   },
   "source": [
    "**Logistic Regression**"
   ]
  },
  {
   "cell_type": "code",
   "execution_count": 27,
   "id": "b0c2e269",
   "metadata": {
    "execution": {
     "iopub.execute_input": "2023-08-01T17:42:23.184633Z",
     "iopub.status.busy": "2023-08-01T17:42:23.183819Z",
     "iopub.status.idle": "2023-08-01T17:42:23.288475Z",
     "shell.execute_reply": "2023-08-01T17:42:23.286571Z"
    },
    "papermill": {
     "duration": 0.129777,
     "end_time": "2023-08-01T17:42:23.291768",
     "exception": false,
     "start_time": "2023-08-01T17:42:23.161991",
     "status": "completed"
    },
    "tags": []
   },
   "outputs": [
    {
     "name": "stdout",
     "output_type": "stream",
     "text": [
      "LogisticRegression() accuracy is 0.8229166666666666\n",
      "LogisticRegression() Avg cross val score is 0.8020833333333334\n"
     ]
    }
   ],
   "source": [
    "from sklearn.linear_model import LogisticRegression\n",
    "model = LogisticRegression()\n",
    "model_val(model,X,Y)"
   ]
  },
  {
   "cell_type": "markdown",
   "id": "5237329c",
   "metadata": {
    "papermill": {
     "duration": 0.025203,
     "end_time": "2023-08-01T17:42:23.339191",
     "exception": false,
     "start_time": "2023-08-01T17:42:23.313988",
     "status": "completed"
    },
    "tags": []
   },
   "source": [
    "**SVM**"
   ]
  },
  {
   "cell_type": "code",
   "execution_count": 28,
   "id": "d3178600",
   "metadata": {
    "execution": {
     "iopub.execute_input": "2023-08-01T17:42:23.383309Z",
     "iopub.status.busy": "2023-08-01T17:42:23.382782Z",
     "iopub.status.idle": "2023-08-01T17:42:23.492013Z",
     "shell.execute_reply": "2023-08-01T17:42:23.490546Z"
    },
    "papermill": {
     "duration": 0.135696,
     "end_time": "2023-08-01T17:42:23.494963",
     "exception": false,
     "start_time": "2023-08-01T17:42:23.359267",
     "status": "completed"
    },
    "tags": []
   },
   "outputs": [
    {
     "name": "stdout",
     "output_type": "stream",
     "text": [
      "SVC() accuracy is 0.8125\n",
      "SVC() Avg cross val score is 0.7937500000000001\n"
     ]
    }
   ],
   "source": [
    "from sklearn import svm\n",
    "model = svm.SVC()\n",
    "model_val(model,X,Y)"
   ]
  },
  {
   "cell_type": "markdown",
   "id": "ae37d53b",
   "metadata": {
    "papermill": {
     "duration": 0.020108,
     "end_time": "2023-08-01T17:42:23.535637",
     "exception": false,
     "start_time": "2023-08-01T17:42:23.515529",
     "status": "completed"
    },
    "tags": []
   },
   "source": [
    "**Decision Tree Classifier**"
   ]
  },
  {
   "cell_type": "code",
   "execution_count": 29,
   "id": "afd85c3b",
   "metadata": {
    "execution": {
     "iopub.execute_input": "2023-08-01T17:42:23.579398Z",
     "iopub.status.busy": "2023-08-01T17:42:23.578666Z",
     "iopub.status.idle": "2023-08-01T17:42:23.844671Z",
     "shell.execute_reply": "2023-08-01T17:42:23.843474Z"
    },
    "papermill": {
     "duration": 0.291969,
     "end_time": "2023-08-01T17:42:23.848237",
     "exception": false,
     "start_time": "2023-08-01T17:42:23.556268",
     "status": "completed"
    },
    "tags": []
   },
   "outputs": [
    {
     "name": "stdout",
     "output_type": "stream",
     "text": [
      "DecisionTreeClassifier() accuracy is 0.7708333333333334\n",
      "DecisionTreeClassifier() Avg cross val score is 0.69375\n"
     ]
    }
   ],
   "source": [
    "from sklearn.tree import DecisionTreeClassifier\n",
    "model = DecisionTreeClassifier()\n",
    "model_val(model,X,Y)"
   ]
  },
  {
   "cell_type": "markdown",
   "id": "91ce4bf5",
   "metadata": {
    "papermill": {
     "duration": 0.020339,
     "end_time": "2023-08-01T17:42:23.889631",
     "exception": false,
     "start_time": "2023-08-01T17:42:23.869292",
     "status": "completed"
    },
    "tags": []
   },
   "source": [
    "**Random Forest**"
   ]
  },
  {
   "cell_type": "code",
   "execution_count": 30,
   "id": "9e3b2304",
   "metadata": {
    "execution": {
     "iopub.execute_input": "2023-08-01T17:42:23.934192Z",
     "iopub.status.busy": "2023-08-01T17:42:23.933738Z",
     "iopub.status.idle": "2023-08-01T17:42:25.914888Z",
     "shell.execute_reply": "2023-08-01T17:42:25.913639Z"
    },
    "papermill": {
     "duration": 2.006943,
     "end_time": "2023-08-01T17:42:25.917712",
     "exception": false,
     "start_time": "2023-08-01T17:42:23.910769",
     "status": "completed"
    },
    "tags": []
   },
   "outputs": [
    {
     "name": "stdout",
     "output_type": "stream",
     "text": [
      "RandomForestClassifier() accuracy is 0.8020833333333334\n",
      "RandomForestClassifier() Avg cross val score is 0.80625\n"
     ]
    }
   ],
   "source": [
    "from sklearn.ensemble import RandomForestClassifier\n",
    "model =RandomForestClassifier()\n",
    "model_val(model,X,Y)"
   ]
  },
  {
   "cell_type": "markdown",
   "id": "2c9713e8",
   "metadata": {
    "papermill": {
     "duration": 0.0207,
     "end_time": "2023-08-01T17:42:25.959068",
     "exception": false,
     "start_time": "2023-08-01T17:42:25.938368",
     "status": "completed"
    },
    "tags": []
   },
   "source": [
    "# **Save Model**"
   ]
  },
  {
   "cell_type": "code",
   "execution_count": 31,
   "id": "b4fd3939",
   "metadata": {
    "execution": {
     "iopub.execute_input": "2023-08-01T17:42:26.002774Z",
     "iopub.status.busy": "2023-08-01T17:42:26.002062Z",
     "iopub.status.idle": "2023-08-01T17:42:26.007591Z",
     "shell.execute_reply": "2023-08-01T17:42:26.006766Z"
    },
    "papermill": {
     "duration": 0.030353,
     "end_time": "2023-08-01T17:42:26.009981",
     "exception": false,
     "start_time": "2023-08-01T17:42:25.979628",
     "status": "completed"
    },
    "tags": []
   },
   "outputs": [],
   "source": [
    "rf = RandomForestClassifier(n_estimators=270,\n",
    " min_samples_split=5,\n",
    " min_samples_leaf=5,\n",
    " max_features='sqrt',\n",
    " max_depth=5)"
   ]
  },
  {
   "cell_type": "code",
   "execution_count": 32,
   "id": "84215e77",
   "metadata": {
    "execution": {
     "iopub.execute_input": "2023-08-01T17:42:26.054034Z",
     "iopub.status.busy": "2023-08-01T17:42:26.053279Z",
     "iopub.status.idle": "2023-08-01T17:42:26.731120Z",
     "shell.execute_reply": "2023-08-01T17:42:26.729807Z"
    },
    "papermill": {
     "duration": 0.704542,
     "end_time": "2023-08-01T17:42:26.735145",
     "exception": false,
     "start_time": "2023-08-01T17:42:26.030603",
     "status": "completed"
    },
    "tags": []
   },
   "outputs": [
    {
     "data": {
      "text/html": [
       "<style>#sk-container-id-1 {color: black;background-color: white;}#sk-container-id-1 pre{padding: 0;}#sk-container-id-1 div.sk-toggleable {background-color: white;}#sk-container-id-1 label.sk-toggleable__label {cursor: pointer;display: block;width: 100%;margin-bottom: 0;padding: 0.3em;box-sizing: border-box;text-align: center;}#sk-container-id-1 label.sk-toggleable__label-arrow:before {content: \"▸\";float: left;margin-right: 0.25em;color: #696969;}#sk-container-id-1 label.sk-toggleable__label-arrow:hover:before {color: black;}#sk-container-id-1 div.sk-estimator:hover label.sk-toggleable__label-arrow:before {color: black;}#sk-container-id-1 div.sk-toggleable__content {max-height: 0;max-width: 0;overflow: hidden;text-align: left;background-color: #f0f8ff;}#sk-container-id-1 div.sk-toggleable__content pre {margin: 0.2em;color: black;border-radius: 0.25em;background-color: #f0f8ff;}#sk-container-id-1 input.sk-toggleable__control:checked~div.sk-toggleable__content {max-height: 200px;max-width: 100%;overflow: auto;}#sk-container-id-1 input.sk-toggleable__control:checked~label.sk-toggleable__label-arrow:before {content: \"▾\";}#sk-container-id-1 div.sk-estimator input.sk-toggleable__control:checked~label.sk-toggleable__label {background-color: #d4ebff;}#sk-container-id-1 div.sk-label input.sk-toggleable__control:checked~label.sk-toggleable__label {background-color: #d4ebff;}#sk-container-id-1 input.sk-hidden--visually {border: 0;clip: rect(1px 1px 1px 1px);clip: rect(1px, 1px, 1px, 1px);height: 1px;margin: -1px;overflow: hidden;padding: 0;position: absolute;width: 1px;}#sk-container-id-1 div.sk-estimator {font-family: monospace;background-color: #f0f8ff;border: 1px dotted black;border-radius: 0.25em;box-sizing: border-box;margin-bottom: 0.5em;}#sk-container-id-1 div.sk-estimator:hover {background-color: #d4ebff;}#sk-container-id-1 div.sk-parallel-item::after {content: \"\";width: 100%;border-bottom: 1px solid gray;flex-grow: 1;}#sk-container-id-1 div.sk-label:hover label.sk-toggleable__label {background-color: #d4ebff;}#sk-container-id-1 div.sk-serial::before {content: \"\";position: absolute;border-left: 1px solid gray;box-sizing: border-box;top: 0;bottom: 0;left: 50%;z-index: 0;}#sk-container-id-1 div.sk-serial {display: flex;flex-direction: column;align-items: center;background-color: white;padding-right: 0.2em;padding-left: 0.2em;position: relative;}#sk-container-id-1 div.sk-item {position: relative;z-index: 1;}#sk-container-id-1 div.sk-parallel {display: flex;align-items: stretch;justify-content: center;background-color: white;position: relative;}#sk-container-id-1 div.sk-item::before, #sk-container-id-1 div.sk-parallel-item::before {content: \"\";position: absolute;border-left: 1px solid gray;box-sizing: border-box;top: 0;bottom: 0;left: 50%;z-index: -1;}#sk-container-id-1 div.sk-parallel-item {display: flex;flex-direction: column;z-index: 1;position: relative;background-color: white;}#sk-container-id-1 div.sk-parallel-item:first-child::after {align-self: flex-end;width: 50%;}#sk-container-id-1 div.sk-parallel-item:last-child::after {align-self: flex-start;width: 50%;}#sk-container-id-1 div.sk-parallel-item:only-child::after {width: 0;}#sk-container-id-1 div.sk-dashed-wrapped {border: 1px dashed gray;margin: 0 0.4em 0.5em 0.4em;box-sizing: border-box;padding-bottom: 0.4em;background-color: white;}#sk-container-id-1 div.sk-label label {font-family: monospace;font-weight: bold;display: inline-block;line-height: 1.2em;}#sk-container-id-1 div.sk-label-container {text-align: center;}#sk-container-id-1 div.sk-container {/* jupyter's `normalize.less` sets `[hidden] { display: none; }` but bootstrap.min.css set `[hidden] { display: none !important; }` so we also need the `!important` here to be able to override the default hidden behavior on the sphinx rendered scikit-learn.org. See: https://github.com/scikit-learn/scikit-learn/issues/21755 */display: inline-block !important;position: relative;}#sk-container-id-1 div.sk-text-repr-fallback {display: none;}</style><div id=\"sk-container-id-1\" class=\"sk-top-container\"><div class=\"sk-text-repr-fallback\"><pre>RandomForestClassifier(max_depth=5, min_samples_leaf=5, min_samples_split=5,\n",
       "                       n_estimators=270)</pre><b>In a Jupyter environment, please rerun this cell to show the HTML representation or trust the notebook. <br />On GitHub, the HTML representation is unable to render, please try loading this page with nbviewer.org.</b></div><div class=\"sk-container\" hidden><div class=\"sk-item\"><div class=\"sk-estimator sk-toggleable\"><input class=\"sk-toggleable__control sk-hidden--visually\" id=\"sk-estimator-id-1\" type=\"checkbox\" checked><label for=\"sk-estimator-id-1\" class=\"sk-toggleable__label sk-toggleable__label-arrow\">RandomForestClassifier</label><div class=\"sk-toggleable__content\"><pre>RandomForestClassifier(max_depth=5, min_samples_leaf=5, min_samples_split=5,\n",
       "                       n_estimators=270)</pre></div></div></div></div></div>"
      ],
      "text/plain": [
       "RandomForestClassifier(max_depth=5, min_samples_leaf=5, min_samples_split=5,\n",
       "                       n_estimators=270)"
      ]
     },
     "execution_count": 32,
     "metadata": {},
     "output_type": "execute_result"
    }
   ],
   "source": [
    "rf.fit(X,Y)"
   ]
  },
  {
   "cell_type": "markdown",
   "id": "0f94fe3a",
   "metadata": {
    "papermill": {
     "duration": 0.022286,
     "end_time": "2023-08-01T17:42:26.782354",
     "exception": false,
     "start_time": "2023-08-01T17:42:26.760068",
     "status": "completed"
    },
    "tags": []
   },
   "source": [
    "# **Test Model**"
   ]
  },
  {
   "cell_type": "code",
   "execution_count": 33,
   "id": "81490a65",
   "metadata": {
    "execution": {
     "iopub.execute_input": "2023-08-01T17:42:26.828435Z",
     "iopub.status.busy": "2023-08-01T17:42:26.827995Z",
     "iopub.status.idle": "2023-08-01T17:42:26.833249Z",
     "shell.execute_reply": "2023-08-01T17:42:26.831982Z"
    },
    "papermill": {
     "duration": 0.032359,
     "end_time": "2023-08-01T17:42:26.836637",
     "exception": false,
     "start_time": "2023-08-01T17:42:26.804278",
     "status": "completed"
    },
    "tags": []
   },
   "outputs": [],
   "source": [
    "import joblib"
   ]
  },
  {
   "cell_type": "code",
   "execution_count": 34,
   "id": "91f5cf16",
   "metadata": {
    "execution": {
     "iopub.execute_input": "2023-08-01T17:42:26.883106Z",
     "iopub.status.busy": "2023-08-01T17:42:26.882615Z",
     "iopub.status.idle": "2023-08-01T17:42:27.102138Z",
     "shell.execute_reply": "2023-08-01T17:42:27.100336Z"
    },
    "papermill": {
     "duration": 0.246233,
     "end_time": "2023-08-01T17:42:27.105149",
     "exception": false,
     "start_time": "2023-08-01T17:42:26.858916",
     "status": "completed"
    },
    "tags": []
   },
   "outputs": [
    {
     "data": {
      "text/plain": [
       "['loan_status_predict']"
      ]
     },
     "execution_count": 34,
     "metadata": {},
     "output_type": "execute_result"
    }
   ],
   "source": [
    "joblib.dump(rf,'loan_status_predict')"
   ]
  },
  {
   "cell_type": "code",
   "execution_count": 35,
   "id": "3cc1204d",
   "metadata": {
    "execution": {
     "iopub.execute_input": "2023-08-01T17:42:27.154447Z",
     "iopub.status.busy": "2023-08-01T17:42:27.152767Z",
     "iopub.status.idle": "2023-08-01T17:42:27.307855Z",
     "shell.execute_reply": "2023-08-01T17:42:27.306153Z"
    },
    "papermill": {
     "duration": 0.183534,
     "end_time": "2023-08-01T17:42:27.311802",
     "exception": false,
     "start_time": "2023-08-01T17:42:27.128268",
     "status": "completed"
    },
    "tags": []
   },
   "outputs": [],
   "source": [
    "model = joblib.load('loan_status_predict')"
   ]
  },
  {
   "cell_type": "code",
   "execution_count": 36,
   "id": "81955c46",
   "metadata": {
    "execution": {
     "iopub.execute_input": "2023-08-01T17:42:27.361267Z",
     "iopub.status.busy": "2023-08-01T17:42:27.360485Z",
     "iopub.status.idle": "2023-08-01T17:42:27.369055Z",
     "shell.execute_reply": "2023-08-01T17:42:27.367652Z"
    },
    "papermill": {
     "duration": 0.036547,
     "end_time": "2023-08-01T17:42:27.371610",
     "exception": false,
     "start_time": "2023-08-01T17:42:27.335063",
     "status": "completed"
    },
    "tags": []
   },
   "outputs": [],
   "source": [
    "import pandas as pd\n",
    "df = pd.DataFrame({\n",
    "    'Gender':1,\n",
    "    'Married':1,\n",
    "    'Dependents':2,\n",
    "    'Education':1,\n",
    "    'Self_Employed':0,\n",
    "    'ApplicantIncome':3058,\n",
    "    'CoapplicantIncome':2700,\n",
    "    'LoanAmount':1400,\n",
    "    'Loan_Amount_Term':180,\n",
    "    'Credit_History':1,\n",
    "    'Property_Area':1\n",
    "},index=[0])"
   ]
  },
  {
   "cell_type": "code",
   "execution_count": 37,
   "id": "ab9ff1bb",
   "metadata": {
    "execution": {
     "iopub.execute_input": "2023-08-01T17:42:27.418207Z",
     "iopub.status.busy": "2023-08-01T17:42:27.417418Z",
     "iopub.status.idle": "2023-08-01T17:42:27.471466Z",
     "shell.execute_reply": "2023-08-01T17:42:27.470119Z"
    },
    "papermill": {
     "duration": 0.081448,
     "end_time": "2023-08-01T17:42:27.474447",
     "exception": false,
     "start_time": "2023-08-01T17:42:27.392999",
     "status": "completed"
    },
    "tags": []
   },
   "outputs": [],
   "source": [
    "result = model.predict(df)"
   ]
  },
  {
   "cell_type": "code",
   "execution_count": 38,
   "id": "61b2a852",
   "metadata": {
    "execution": {
     "iopub.execute_input": "2023-08-01T17:42:27.520685Z",
     "iopub.status.busy": "2023-08-01T17:42:27.520161Z",
     "iopub.status.idle": "2023-08-01T17:42:27.527338Z",
     "shell.execute_reply": "2023-08-01T17:42:27.525829Z"
    },
    "papermill": {
     "duration": 0.033581,
     "end_time": "2023-08-01T17:42:27.530066",
     "exception": false,
     "start_time": "2023-08-01T17:42:27.496485",
     "status": "completed"
    },
    "tags": []
   },
   "outputs": [
    {
     "name": "stdout",
     "output_type": "stream",
     "text": [
      "Loan Approved\n"
     ]
    }
   ],
   "source": [
    "if result==1:\n",
    "    print(\"Loan Approved\")\n",
    "else:\n",
    "    print(\"Loan Not Approved\")"
   ]
  }
 ],
 "metadata": {
  "kernelspec": {
   "display_name": "Python 3",
   "language": "python",
   "name": "python3"
  },
  "language_info": {
   "codemirror_mode": {
    "name": "ipython",
    "version": 3
   },
   "file_extension": ".py",
   "mimetype": "text/x-python",
   "name": "python",
   "nbconvert_exporter": "python",
   "pygments_lexer": "ipython3",
   "version": "3.10.12"
  },
  "papermill": {
   "default_parameters": {},
   "duration": 24.917968,
   "end_time": "2023-08-01T17:42:28.980286",
   "environment_variables": {},
   "exception": null,
   "input_path": "__notebook__.ipynb",
   "output_path": "__notebook__.ipynb",
   "parameters": {},
   "start_time": "2023-08-01T17:42:04.062318",
   "version": "2.4.0"
  }
 },
 "nbformat": 4,
 "nbformat_minor": 5
}
