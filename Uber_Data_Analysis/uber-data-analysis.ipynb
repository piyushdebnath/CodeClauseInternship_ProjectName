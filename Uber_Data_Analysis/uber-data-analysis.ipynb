{
 "cells": [
  {
   "cell_type": "markdown",
   "id": "c99d305b",
   "metadata": {
    "papermill": {
     "duration": 0.012048,
     "end_time": "2023-08-24T18:46:32.580684",
     "exception": false,
     "start_time": "2023-08-24T18:46:32.568636",
     "status": "completed"
    },
    "tags": []
   },
   "source": [
    "# **Introduction**"
   ]
  },
  {
   "cell_type": "markdown",
   "id": "142663e6",
   "metadata": {
    "papermill": {
     "duration": 0.011315,
     "end_time": "2023-08-24T18:46:32.603850",
     "exception": false,
     "start_time": "2023-08-24T18:46:32.592535",
     "status": "completed"
    },
    "tags": []
   },
   "source": [
    "The entire company has a ton of data. Records analysis is occasionally needed for business development. By the dataset I learned crucial information about what works and how to develop the graph for the future . In this competitive environment, data analysis is essential for business development. To understand the application of records analytics, it is crucial to complete this analytics project. The Uber Data Analysis work enables us to comprehend the intricate fact visualization of this significant company. This project examined the Uber Trips in different cities. This assignment is centered mostly on data visualization and will direct you to look after the areas which will required to improve the services provided.\n"
   ]
  },
  {
   "cell_type": "markdown",
   "id": "9f0e29b8",
   "metadata": {
    "papermill": {
     "duration": 0.011239,
     "end_time": "2023-08-24T18:46:32.626751",
     "exception": false,
     "start_time": "2023-08-24T18:46:32.615512",
     "status": "completed"
    },
    "tags": []
   },
   "source": [
    "# **Importing all the Libraries**"
   ]
  },
  {
   "cell_type": "code",
   "execution_count": 1,
   "id": "7867ea5b",
   "metadata": {
    "_cell_guid": "b1076dfc-b9ad-4769-8c92-a6c4dae69d19",
    "_uuid": "8f2839f25d086af736a60e9eeb907d3b93b6e0e5",
    "execution": {
     "iopub.execute_input": "2023-08-24T18:46:32.652740Z",
     "iopub.status.busy": "2023-08-24T18:46:32.652018Z",
     "iopub.status.idle": "2023-08-24T18:46:35.018629Z",
     "shell.execute_reply": "2023-08-24T18:46:35.017353Z"
    },
    "papermill": {
     "duration": 2.383111,
     "end_time": "2023-08-24T18:46:35.021939",
     "exception": false,
     "start_time": "2023-08-24T18:46:32.638828",
     "status": "completed"
    },
    "tags": []
   },
   "outputs": [
    {
     "name": "stderr",
     "output_type": "stream",
     "text": [
      "/opt/conda/lib/python3.10/site-packages/scipy/__init__.py:146: UserWarning: A NumPy version >=1.16.5 and <1.23.0 is required for this version of SciPy (detected version 1.23.5\n",
      "  warnings.warn(f\"A NumPy version >={np_minversion} and <{np_maxversion}\"\n"
     ]
    }
   ],
   "source": [
    "import numpy as np # linear algebra\n",
    "import pandas as pd # data processing, CSV file I/O (e.g. pd.read_csv)\n",
    "import matplotlib.pyplot as plt\n",
    "%matplotlib inline\n",
    "import seaborn as sns\n",
    "import random\n",
    "import plotly.express as px\n",
    "import plotly.offline as pyo\n"
   ]
  },
  {
   "cell_type": "code",
   "execution_count": 2,
   "id": "41275f7a",
   "metadata": {
    "execution": {
     "iopub.execute_input": "2023-08-24T18:46:35.048957Z",
     "iopub.status.busy": "2023-08-24T18:46:35.048552Z",
     "iopub.status.idle": "2023-08-24T18:46:35.077185Z",
     "shell.execute_reply": "2023-08-24T18:46:35.075929Z"
    },
    "papermill": {
     "duration": 0.044831,
     "end_time": "2023-08-24T18:46:35.080225",
     "exception": false,
     "start_time": "2023-08-24T18:46:35.035394",
     "status": "completed"
    },
    "tags": []
   },
   "outputs": [],
   "source": [
    "df=pd.read_csv('/kaggle/input/uber-data-analysis/UberDataset.csv')"
   ]
  },
  {
   "cell_type": "markdown",
   "id": "1bec3865",
   "metadata": {
    "papermill": {
     "duration": 0.011974,
     "end_time": "2023-08-24T18:46:35.104034",
     "exception": false,
     "start_time": "2023-08-24T18:46:35.092060",
     "status": "completed"
    },
    "tags": []
   },
   "source": [
    "# **Data Preparation**"
   ]
  },
  {
   "cell_type": "code",
   "execution_count": 3,
   "id": "90f1dc09",
   "metadata": {
    "execution": {
     "iopub.execute_input": "2023-08-24T18:46:35.130279Z",
     "iopub.status.busy": "2023-08-24T18:46:35.129352Z",
     "iopub.status.idle": "2023-08-24T18:46:35.138008Z",
     "shell.execute_reply": "2023-08-24T18:46:35.136716Z"
    },
    "papermill": {
     "duration": 0.024653,
     "end_time": "2023-08-24T18:46:35.140492",
     "exception": false,
     "start_time": "2023-08-24T18:46:35.115839",
     "status": "completed"
    },
    "tags": []
   },
   "outputs": [
    {
     "data": {
      "text/plain": [
       "(1156, 7)"
      ]
     },
     "execution_count": 3,
     "metadata": {},
     "output_type": "execute_result"
    }
   ],
   "source": [
    "df.shape"
   ]
  },
  {
   "cell_type": "code",
   "execution_count": 4,
   "id": "6bc959e5",
   "metadata": {
    "execution": {
     "iopub.execute_input": "2023-08-24T18:46:35.166854Z",
     "iopub.status.busy": "2023-08-24T18:46:35.165751Z",
     "iopub.status.idle": "2023-08-24T18:46:35.191559Z",
     "shell.execute_reply": "2023-08-24T18:46:35.190219Z"
    },
    "papermill": {
     "duration": 0.041517,
     "end_time": "2023-08-24T18:46:35.194034",
     "exception": false,
     "start_time": "2023-08-24T18:46:35.152517",
     "status": "completed"
    },
    "tags": []
   },
   "outputs": [
    {
     "data": {
      "text/html": [
       "<div>\n",
       "<style scoped>\n",
       "    .dataframe tbody tr th:only-of-type {\n",
       "        vertical-align: middle;\n",
       "    }\n",
       "\n",
       "    .dataframe tbody tr th {\n",
       "        vertical-align: top;\n",
       "    }\n",
       "\n",
       "    .dataframe thead th {\n",
       "        text-align: right;\n",
       "    }\n",
       "</style>\n",
       "<table border=\"1\" class=\"dataframe\">\n",
       "  <thead>\n",
       "    <tr style=\"text-align: right;\">\n",
       "      <th></th>\n",
       "      <th>START_DATE</th>\n",
       "      <th>END_DATE</th>\n",
       "      <th>CATEGORY</th>\n",
       "      <th>START</th>\n",
       "      <th>STOP</th>\n",
       "      <th>MILES</th>\n",
       "      <th>PURPOSE</th>\n",
       "    </tr>\n",
       "  </thead>\n",
       "  <tbody>\n",
       "    <tr>\n",
       "      <th>0</th>\n",
       "      <td>01-01-2016 21:11</td>\n",
       "      <td>01-01-2016 21:17</td>\n",
       "      <td>Business</td>\n",
       "      <td>Fort Pierce</td>\n",
       "      <td>Fort Pierce</td>\n",
       "      <td>5.1</td>\n",
       "      <td>Meal/Entertain</td>\n",
       "    </tr>\n",
       "    <tr>\n",
       "      <th>1</th>\n",
       "      <td>01-02-2016 01:25</td>\n",
       "      <td>01-02-2016 01:37</td>\n",
       "      <td>Business</td>\n",
       "      <td>Fort Pierce</td>\n",
       "      <td>Fort Pierce</td>\n",
       "      <td>5.0</td>\n",
       "      <td>NaN</td>\n",
       "    </tr>\n",
       "    <tr>\n",
       "      <th>2</th>\n",
       "      <td>01-02-2016 20:25</td>\n",
       "      <td>01-02-2016 20:38</td>\n",
       "      <td>Business</td>\n",
       "      <td>Fort Pierce</td>\n",
       "      <td>Fort Pierce</td>\n",
       "      <td>4.8</td>\n",
       "      <td>Errand/Supplies</td>\n",
       "    </tr>\n",
       "    <tr>\n",
       "      <th>3</th>\n",
       "      <td>01-05-2016 17:31</td>\n",
       "      <td>01-05-2016 17:45</td>\n",
       "      <td>Business</td>\n",
       "      <td>Fort Pierce</td>\n",
       "      <td>Fort Pierce</td>\n",
       "      <td>4.7</td>\n",
       "      <td>Meeting</td>\n",
       "    </tr>\n",
       "    <tr>\n",
       "      <th>4</th>\n",
       "      <td>01-06-2016 14:42</td>\n",
       "      <td>01-06-2016 15:49</td>\n",
       "      <td>Business</td>\n",
       "      <td>Fort Pierce</td>\n",
       "      <td>West Palm Beach</td>\n",
       "      <td>63.7</td>\n",
       "      <td>Customer Visit</td>\n",
       "    </tr>\n",
       "  </tbody>\n",
       "</table>\n",
       "</div>"
      ],
      "text/plain": [
       "         START_DATE          END_DATE  CATEGORY        START             STOP  \\\n",
       "0  01-01-2016 21:11  01-01-2016 21:17  Business  Fort Pierce      Fort Pierce   \n",
       "1  01-02-2016 01:25  01-02-2016 01:37  Business  Fort Pierce      Fort Pierce   \n",
       "2  01-02-2016 20:25  01-02-2016 20:38  Business  Fort Pierce      Fort Pierce   \n",
       "3  01-05-2016 17:31  01-05-2016 17:45  Business  Fort Pierce      Fort Pierce   \n",
       "4  01-06-2016 14:42  01-06-2016 15:49  Business  Fort Pierce  West Palm Beach   \n",
       "\n",
       "   MILES          PURPOSE  \n",
       "0    5.1   Meal/Entertain  \n",
       "1    5.0              NaN  \n",
       "2    4.8  Errand/Supplies  \n",
       "3    4.7          Meeting  \n",
       "4   63.7   Customer Visit  "
      ]
     },
     "execution_count": 4,
     "metadata": {},
     "output_type": "execute_result"
    }
   ],
   "source": [
    "df.head(5)"
   ]
  },
  {
   "cell_type": "code",
   "execution_count": 5,
   "id": "494dde74",
   "metadata": {
    "execution": {
     "iopub.execute_input": "2023-08-24T18:46:35.221383Z",
     "iopub.status.busy": "2023-08-24T18:46:35.220682Z",
     "iopub.status.idle": "2023-08-24T18:46:35.234695Z",
     "shell.execute_reply": "2023-08-24T18:46:35.233491Z"
    },
    "papermill": {
     "duration": 0.030634,
     "end_time": "2023-08-24T18:46:35.237408",
     "exception": false,
     "start_time": "2023-08-24T18:46:35.206774",
     "status": "completed"
    },
    "tags": []
   },
   "outputs": [
    {
     "data": {
      "text/html": [
       "<div>\n",
       "<style scoped>\n",
       "    .dataframe tbody tr th:only-of-type {\n",
       "        vertical-align: middle;\n",
       "    }\n",
       "\n",
       "    .dataframe tbody tr th {\n",
       "        vertical-align: top;\n",
       "    }\n",
       "\n",
       "    .dataframe thead th {\n",
       "        text-align: right;\n",
       "    }\n",
       "</style>\n",
       "<table border=\"1\" class=\"dataframe\">\n",
       "  <thead>\n",
       "    <tr style=\"text-align: right;\">\n",
       "      <th></th>\n",
       "      <th>START_DATE</th>\n",
       "      <th>END_DATE</th>\n",
       "      <th>CATEGORY</th>\n",
       "      <th>START</th>\n",
       "      <th>STOP</th>\n",
       "      <th>MILES</th>\n",
       "      <th>PURPOSE</th>\n",
       "    </tr>\n",
       "  </thead>\n",
       "  <tbody>\n",
       "    <tr>\n",
       "      <th>1151</th>\n",
       "      <td>12/31/2016 13:24</td>\n",
       "      <td>12/31/2016 13:42</td>\n",
       "      <td>Business</td>\n",
       "      <td>Kar?chi</td>\n",
       "      <td>Unknown Location</td>\n",
       "      <td>3.9</td>\n",
       "      <td>Temporary Site</td>\n",
       "    </tr>\n",
       "    <tr>\n",
       "      <th>1152</th>\n",
       "      <td>12/31/2016 15:03</td>\n",
       "      <td>12/31/2016 15:38</td>\n",
       "      <td>Business</td>\n",
       "      <td>Unknown Location</td>\n",
       "      <td>Unknown Location</td>\n",
       "      <td>16.2</td>\n",
       "      <td>Meeting</td>\n",
       "    </tr>\n",
       "    <tr>\n",
       "      <th>1153</th>\n",
       "      <td>12/31/2016 21:32</td>\n",
       "      <td>12/31/2016 21:50</td>\n",
       "      <td>Business</td>\n",
       "      <td>Katunayake</td>\n",
       "      <td>Gampaha</td>\n",
       "      <td>6.4</td>\n",
       "      <td>Temporary Site</td>\n",
       "    </tr>\n",
       "    <tr>\n",
       "      <th>1154</th>\n",
       "      <td>12/31/2016 22:08</td>\n",
       "      <td>12/31/2016 23:51</td>\n",
       "      <td>Business</td>\n",
       "      <td>Gampaha</td>\n",
       "      <td>Ilukwatta</td>\n",
       "      <td>48.2</td>\n",
       "      <td>Temporary Site</td>\n",
       "    </tr>\n",
       "    <tr>\n",
       "      <th>1155</th>\n",
       "      <td>Totals</td>\n",
       "      <td>NaN</td>\n",
       "      <td>NaN</td>\n",
       "      <td>NaN</td>\n",
       "      <td>NaN</td>\n",
       "      <td>12204.7</td>\n",
       "      <td>NaN</td>\n",
       "    </tr>\n",
       "  </tbody>\n",
       "</table>\n",
       "</div>"
      ],
      "text/plain": [
       "            START_DATE          END_DATE  CATEGORY             START  \\\n",
       "1151  12/31/2016 13:24  12/31/2016 13:42  Business           Kar?chi   \n",
       "1152  12/31/2016 15:03  12/31/2016 15:38  Business  Unknown Location   \n",
       "1153  12/31/2016 21:32  12/31/2016 21:50  Business        Katunayake   \n",
       "1154  12/31/2016 22:08  12/31/2016 23:51  Business           Gampaha   \n",
       "1155            Totals               NaN       NaN               NaN   \n",
       "\n",
       "                  STOP    MILES         PURPOSE  \n",
       "1151  Unknown Location      3.9  Temporary Site  \n",
       "1152  Unknown Location     16.2         Meeting  \n",
       "1153           Gampaha      6.4  Temporary Site  \n",
       "1154         Ilukwatta     48.2  Temporary Site  \n",
       "1155               NaN  12204.7             NaN  "
      ]
     },
     "execution_count": 5,
     "metadata": {},
     "output_type": "execute_result"
    }
   ],
   "source": [
    "df.tail(5)"
   ]
  },
  {
   "cell_type": "code",
   "execution_count": 6,
   "id": "fc1a4dd9",
   "metadata": {
    "execution": {
     "iopub.execute_input": "2023-08-24T18:46:35.265237Z",
     "iopub.status.busy": "2023-08-24T18:46:35.264775Z",
     "iopub.status.idle": "2023-08-24T18:46:35.272307Z",
     "shell.execute_reply": "2023-08-24T18:46:35.271112Z"
    },
    "papermill": {
     "duration": 0.02456,
     "end_time": "2023-08-24T18:46:35.274776",
     "exception": false,
     "start_time": "2023-08-24T18:46:35.250216",
     "status": "completed"
    },
    "tags": []
   },
   "outputs": [
    {
     "data": {
      "text/plain": [
       "pandas.core.frame.DataFrame"
      ]
     },
     "execution_count": 6,
     "metadata": {},
     "output_type": "execute_result"
    }
   ],
   "source": [
    "type(df)"
   ]
  },
  {
   "cell_type": "code",
   "execution_count": 7,
   "id": "0e02452a",
   "metadata": {
    "execution": {
     "iopub.execute_input": "2023-08-24T18:46:35.302917Z",
     "iopub.status.busy": "2023-08-24T18:46:35.302497Z",
     "iopub.status.idle": "2023-08-24T18:46:35.312761Z",
     "shell.execute_reply": "2023-08-24T18:46:35.311482Z"
    },
    "papermill": {
     "duration": 0.027136,
     "end_time": "2023-08-24T18:46:35.315302",
     "exception": false,
     "start_time": "2023-08-24T18:46:35.288166",
     "status": "completed"
    },
    "tags": []
   },
   "outputs": [
    {
     "data": {
      "text/plain": [
       "2"
      ]
     },
     "execution_count": 7,
     "metadata": {},
     "output_type": "execute_result"
    }
   ],
   "source": [
    "df.CATEGORY.nunique()"
   ]
  },
  {
   "cell_type": "code",
   "execution_count": 8,
   "id": "df34d15c",
   "metadata": {
    "execution": {
     "iopub.execute_input": "2023-08-24T18:46:35.345949Z",
     "iopub.status.busy": "2023-08-24T18:46:35.345500Z",
     "iopub.status.idle": "2023-08-24T18:46:35.353053Z",
     "shell.execute_reply": "2023-08-24T18:46:35.351374Z"
    },
    "papermill": {
     "duration": 0.026525,
     "end_time": "2023-08-24T18:46:35.355640",
     "exception": false,
     "start_time": "2023-08-24T18:46:35.329115",
     "status": "completed"
    },
    "tags": []
   },
   "outputs": [
    {
     "name": "stdout",
     "output_type": "stream",
     "text": [
      "Data types of all columns in df:\n",
      "START_DATE     object\n",
      "END_DATE       object\n",
      "CATEGORY       object\n",
      "START          object\n",
      "STOP           object\n",
      "MILES         float64\n",
      "PURPOSE        object\n",
      "dtype: object\n"
     ]
    }
   ],
   "source": [
    "#Checking data types\n",
    "print(\"Data types of all columns in df:\")\n",
    "print(df.dtypes)"
   ]
  },
  {
   "cell_type": "code",
   "execution_count": 9,
   "id": "24a8b336",
   "metadata": {
    "execution": {
     "iopub.execute_input": "2023-08-24T18:46:35.384200Z",
     "iopub.status.busy": "2023-08-24T18:46:35.382985Z",
     "iopub.status.idle": "2023-08-24T18:46:35.661034Z",
     "shell.execute_reply": "2023-08-24T18:46:35.659225Z"
    },
    "papermill": {
     "duration": 0.294785,
     "end_time": "2023-08-24T18:46:35.663544",
     "exception": false,
     "start_time": "2023-08-24T18:46:35.368759",
     "status": "completed"
    },
    "tags": []
   },
   "outputs": [
    {
     "name": "stdout",
     "output_type": "stream",
     "text": [
      "Data type of 'START_DATE': datetime64[ns]\n",
      "Data type of 'END_DATE': datetime64[ns]\n"
     ]
    }
   ],
   "source": [
    "# Convert the 'START_DATE' and 'END_DATE' columns to datetime with 'coerce'\n",
    "df['START_DATE'] = pd.to_datetime(df['START_DATE'], errors='coerce')\n",
    "df['END_DATE'] = pd.to_datetime(df['END_DATE'], errors='coerce')\n",
    "\n",
    "# Now, check the data types of 'START_DATE' and 'END_DATE' columns\n",
    "print(\"Data type of 'START_DATE':\",df['START_DATE'].dtype)\n",
    "print(\"Data type of 'END_DATE':\",df['END_DATE'].dtype)\n"
   ]
  },
  {
   "cell_type": "markdown",
   "id": "fd7a6731",
   "metadata": {
    "papermill": {
     "duration": 0.012532,
     "end_time": "2023-08-24T18:46:35.689030",
     "exception": false,
     "start_time": "2023-08-24T18:46:35.676498",
     "status": "completed"
    },
    "tags": []
   },
   "source": [
    "# **Data Cleaning**"
   ]
  },
  {
   "cell_type": "code",
   "execution_count": 10,
   "id": "f2fd3544",
   "metadata": {
    "execution": {
     "iopub.execute_input": "2023-08-24T18:46:35.717045Z",
     "iopub.status.busy": "2023-08-24T18:46:35.716659Z",
     "iopub.status.idle": "2023-08-24T18:46:35.747443Z",
     "shell.execute_reply": "2023-08-24T18:46:35.746031Z"
    },
    "papermill": {
     "duration": 0.047654,
     "end_time": "2023-08-24T18:46:35.749912",
     "exception": false,
     "start_time": "2023-08-24T18:46:35.702258",
     "status": "completed"
    },
    "tags": []
   },
   "outputs": [
    {
     "data": {
      "text/html": [
       "<div>\n",
       "<style scoped>\n",
       "    .dataframe tbody tr th:only-of-type {\n",
       "        vertical-align: middle;\n",
       "    }\n",
       "\n",
       "    .dataframe tbody tr th {\n",
       "        vertical-align: top;\n",
       "    }\n",
       "\n",
       "    .dataframe thead th {\n",
       "        text-align: right;\n",
       "    }\n",
       "</style>\n",
       "<table border=\"1\" class=\"dataframe\">\n",
       "  <thead>\n",
       "    <tr style=\"text-align: right;\">\n",
       "      <th></th>\n",
       "      <th>START_DATE</th>\n",
       "      <th>END_DATE</th>\n",
       "      <th>CATEGORY</th>\n",
       "      <th>START</th>\n",
       "      <th>STOP</th>\n",
       "      <th>MILES</th>\n",
       "      <th>PURPOSE</th>\n",
       "    </tr>\n",
       "  </thead>\n",
       "  <tbody>\n",
       "    <tr>\n",
       "      <th>0</th>\n",
       "      <td>2016-01-01 21:11:00</td>\n",
       "      <td>2016-01-01 21:17:00</td>\n",
       "      <td>Business</td>\n",
       "      <td>Fort Pierce</td>\n",
       "      <td>Fort Pierce</td>\n",
       "      <td>5.1</td>\n",
       "      <td>Meal/Entertain</td>\n",
       "    </tr>\n",
       "    <tr>\n",
       "      <th>1</th>\n",
       "      <td>2016-01-02 01:25:00</td>\n",
       "      <td>2016-01-02 01:37:00</td>\n",
       "      <td>Business</td>\n",
       "      <td>Fort Pierce</td>\n",
       "      <td>Fort Pierce</td>\n",
       "      <td>5.0</td>\n",
       "      <td>NaN</td>\n",
       "    </tr>\n",
       "    <tr>\n",
       "      <th>2</th>\n",
       "      <td>2016-01-02 20:25:00</td>\n",
       "      <td>2016-01-02 20:38:00</td>\n",
       "      <td>Business</td>\n",
       "      <td>Fort Pierce</td>\n",
       "      <td>Fort Pierce</td>\n",
       "      <td>4.8</td>\n",
       "      <td>Errand/Supplies</td>\n",
       "    </tr>\n",
       "    <tr>\n",
       "      <th>3</th>\n",
       "      <td>2016-01-05 17:31:00</td>\n",
       "      <td>2016-01-05 17:45:00</td>\n",
       "      <td>Business</td>\n",
       "      <td>Fort Pierce</td>\n",
       "      <td>Fort Pierce</td>\n",
       "      <td>4.7</td>\n",
       "      <td>Meeting</td>\n",
       "    </tr>\n",
       "    <tr>\n",
       "      <th>4</th>\n",
       "      <td>2016-01-06 14:42:00</td>\n",
       "      <td>2016-01-06 15:49:00</td>\n",
       "      <td>Business</td>\n",
       "      <td>Fort Pierce</td>\n",
       "      <td>West Palm Beach</td>\n",
       "      <td>63.7</td>\n",
       "      <td>Customer Visit</td>\n",
       "    </tr>\n",
       "    <tr>\n",
       "      <th>...</th>\n",
       "      <td>...</td>\n",
       "      <td>...</td>\n",
       "      <td>...</td>\n",
       "      <td>...</td>\n",
       "      <td>...</td>\n",
       "      <td>...</td>\n",
       "      <td>...</td>\n",
       "    </tr>\n",
       "    <tr>\n",
       "      <th>1150</th>\n",
       "      <td>2016-12-31 01:07:00</td>\n",
       "      <td>2016-12-31 01:14:00</td>\n",
       "      <td>Business</td>\n",
       "      <td>Kar?chi</td>\n",
       "      <td>Kar?chi</td>\n",
       "      <td>0.7</td>\n",
       "      <td>Meeting</td>\n",
       "    </tr>\n",
       "    <tr>\n",
       "      <th>1151</th>\n",
       "      <td>2016-12-31 13:24:00</td>\n",
       "      <td>2016-12-31 13:42:00</td>\n",
       "      <td>Business</td>\n",
       "      <td>Kar?chi</td>\n",
       "      <td>Unknown Location</td>\n",
       "      <td>3.9</td>\n",
       "      <td>Temporary Site</td>\n",
       "    </tr>\n",
       "    <tr>\n",
       "      <th>1152</th>\n",
       "      <td>2016-12-31 15:03:00</td>\n",
       "      <td>2016-12-31 15:38:00</td>\n",
       "      <td>Business</td>\n",
       "      <td>Unknown Location</td>\n",
       "      <td>Unknown Location</td>\n",
       "      <td>16.2</td>\n",
       "      <td>Meeting</td>\n",
       "    </tr>\n",
       "    <tr>\n",
       "      <th>1153</th>\n",
       "      <td>2016-12-31 21:32:00</td>\n",
       "      <td>2016-12-31 21:50:00</td>\n",
       "      <td>Business</td>\n",
       "      <td>Katunayake</td>\n",
       "      <td>Gampaha</td>\n",
       "      <td>6.4</td>\n",
       "      <td>Temporary Site</td>\n",
       "    </tr>\n",
       "    <tr>\n",
       "      <th>1154</th>\n",
       "      <td>2016-12-31 22:08:00</td>\n",
       "      <td>2016-12-31 23:51:00</td>\n",
       "      <td>Business</td>\n",
       "      <td>Gampaha</td>\n",
       "      <td>Ilukwatta</td>\n",
       "      <td>48.2</td>\n",
       "      <td>Temporary Site</td>\n",
       "    </tr>\n",
       "  </tbody>\n",
       "</table>\n",
       "<p>1155 rows × 7 columns</p>\n",
       "</div>"
      ],
      "text/plain": [
       "              START_DATE            END_DATE  CATEGORY             START  \\\n",
       "0    2016-01-01 21:11:00 2016-01-01 21:17:00  Business       Fort Pierce   \n",
       "1    2016-01-02 01:25:00 2016-01-02 01:37:00  Business       Fort Pierce   \n",
       "2    2016-01-02 20:25:00 2016-01-02 20:38:00  Business       Fort Pierce   \n",
       "3    2016-01-05 17:31:00 2016-01-05 17:45:00  Business       Fort Pierce   \n",
       "4    2016-01-06 14:42:00 2016-01-06 15:49:00  Business       Fort Pierce   \n",
       "...                  ...                 ...       ...               ...   \n",
       "1150 2016-12-31 01:07:00 2016-12-31 01:14:00  Business           Kar?chi   \n",
       "1151 2016-12-31 13:24:00 2016-12-31 13:42:00  Business           Kar?chi   \n",
       "1152 2016-12-31 15:03:00 2016-12-31 15:38:00  Business  Unknown Location   \n",
       "1153 2016-12-31 21:32:00 2016-12-31 21:50:00  Business        Katunayake   \n",
       "1154 2016-12-31 22:08:00 2016-12-31 23:51:00  Business           Gampaha   \n",
       "\n",
       "                  STOP  MILES          PURPOSE  \n",
       "0          Fort Pierce    5.1   Meal/Entertain  \n",
       "1          Fort Pierce    5.0              NaN  \n",
       "2          Fort Pierce    4.8  Errand/Supplies  \n",
       "3          Fort Pierce    4.7          Meeting  \n",
       "4      West Palm Beach   63.7   Customer Visit  \n",
       "...                ...    ...              ...  \n",
       "1150           Kar?chi    0.7          Meeting  \n",
       "1151  Unknown Location    3.9   Temporary Site  \n",
       "1152  Unknown Location   16.2          Meeting  \n",
       "1153           Gampaha    6.4   Temporary Site  \n",
       "1154         Ilukwatta   48.2   Temporary Site  \n",
       "\n",
       "[1155 rows x 7 columns]"
      ]
     },
     "execution_count": 10,
     "metadata": {},
     "output_type": "execute_result"
    }
   ],
   "source": [
    "drop_columns = df.columns.drop('PURPOSE')\n",
    "df.dropna(subset=drop_columns, inplace=True)\n",
    "df"
   ]
  },
  {
   "cell_type": "code",
   "execution_count": 11,
   "id": "35f11b22",
   "metadata": {
    "execution": {
     "iopub.execute_input": "2023-08-24T18:46:35.779231Z",
     "iopub.status.busy": "2023-08-24T18:46:35.778778Z",
     "iopub.status.idle": "2023-08-24T18:46:35.790936Z",
     "shell.execute_reply": "2023-08-24T18:46:35.789709Z"
    },
    "papermill": {
     "duration": 0.029481,
     "end_time": "2023-08-24T18:46:35.793223",
     "exception": false,
     "start_time": "2023-08-24T18:46:35.763742",
     "status": "completed"
    },
    "tags": []
   },
   "outputs": [
    {
     "data": {
      "text/plain": [
       "START_DATE      0\n",
       "END_DATE        0\n",
       "CATEGORY        0\n",
       "START           0\n",
       "STOP            0\n",
       "MILES           0\n",
       "PURPOSE       502\n",
       "dtype: int64"
      ]
     },
     "execution_count": 11,
     "metadata": {},
     "output_type": "execute_result"
    }
   ],
   "source": [
    "df.isnull().sum()"
   ]
  },
  {
   "cell_type": "code",
   "execution_count": 12,
   "id": "225a8642",
   "metadata": {
    "execution": {
     "iopub.execute_input": "2023-08-24T18:46:35.822717Z",
     "iopub.status.busy": "2023-08-24T18:46:35.822250Z",
     "iopub.status.idle": "2023-08-24T18:46:35.830540Z",
     "shell.execute_reply": "2023-08-24T18:46:35.829414Z"
    },
    "papermill": {
     "duration": 0.02557,
     "end_time": "2023-08-24T18:46:35.832735",
     "exception": false,
     "start_time": "2023-08-24T18:46:35.807165",
     "status": "completed"
    },
    "tags": []
   },
   "outputs": [],
   "source": [
    "df['START'] = df['START'].replace(\"Kar?chi\", \"Karachi\")\n",
    "df['STOP'] = df['STOP'].replace(\"Kar?chi\", \"Karachi\")"
   ]
  },
  {
   "cell_type": "markdown",
   "id": "9dbef537",
   "metadata": {
    "papermill": {
     "duration": 0.013319,
     "end_time": "2023-08-24T18:46:35.859636",
     "exception": false,
     "start_time": "2023-08-24T18:46:35.846317",
     "status": "completed"
    },
    "tags": []
   },
   "source": [
    "# **Exploratory Data Analysis**"
   ]
  },
  {
   "cell_type": "code",
   "execution_count": 13,
   "id": "bb06b5ba",
   "metadata": {
    "execution": {
     "iopub.execute_input": "2023-08-24T18:46:35.889552Z",
     "iopub.status.busy": "2023-08-24T18:46:35.889111Z",
     "iopub.status.idle": "2023-08-24T18:46:35.897037Z",
     "shell.execute_reply": "2023-08-24T18:46:35.895907Z"
    },
    "papermill": {
     "duration": 0.025853,
     "end_time": "2023-08-24T18:46:35.899667",
     "exception": false,
     "start_time": "2023-08-24T18:46:35.873814",
     "status": "completed"
    },
    "tags": []
   },
   "outputs": [
    {
     "data": {
      "text/plain": [
       "array(['Business', 'Personal'], dtype=object)"
      ]
     },
     "execution_count": 13,
     "metadata": {},
     "output_type": "execute_result"
    }
   ],
   "source": [
    "df.CATEGORY.unique()"
   ]
  },
  {
   "cell_type": "code",
   "execution_count": 14,
   "id": "4934cd4c",
   "metadata": {
    "execution": {
     "iopub.execute_input": "2023-08-24T18:46:35.929650Z",
     "iopub.status.busy": "2023-08-24T18:46:35.929226Z",
     "iopub.status.idle": "2023-08-24T18:46:35.937114Z",
     "shell.execute_reply": "2023-08-24T18:46:35.935956Z"
    },
    "papermill": {
     "duration": 0.025652,
     "end_time": "2023-08-24T18:46:35.939445",
     "exception": false,
     "start_time": "2023-08-24T18:46:35.913793",
     "status": "completed"
    },
    "tags": []
   },
   "outputs": [
    {
     "data": {
      "text/plain": [
       "array(['Meal/Entertain', nan, 'Errand/Supplies', 'Meeting',\n",
       "       'Customer Visit', 'Temporary Site', 'Between Offices',\n",
       "       'Charity ($)', 'Commute', 'Moving', 'Airport/Travel'], dtype=object)"
      ]
     },
     "execution_count": 14,
     "metadata": {},
     "output_type": "execute_result"
    }
   ],
   "source": [
    "df.PURPOSE.unique()"
   ]
  },
  {
   "cell_type": "code",
   "execution_count": 15,
   "id": "85c3cd9f",
   "metadata": {
    "execution": {
     "iopub.execute_input": "2023-08-24T18:46:35.969254Z",
     "iopub.status.busy": "2023-08-24T18:46:35.968321Z",
     "iopub.status.idle": "2023-08-24T18:46:35.983175Z",
     "shell.execute_reply": "2023-08-24T18:46:35.981904Z"
    },
    "papermill": {
     "duration": 0.032153,
     "end_time": "2023-08-24T18:46:35.985474",
     "exception": false,
     "start_time": "2023-08-24T18:46:35.953321",
     "status": "completed"
    },
    "tags": []
   },
   "outputs": [
    {
     "data": {
      "text/plain": [
       "PURPOSE\n",
       "Airport/Travel       5.500000\n",
       "Between Offices     10.944444\n",
       "Charity ($)         15.100000\n",
       "Commute            180.200000\n",
       "Customer Visit      20.688119\n",
       "Errand/Supplies      3.968750\n",
       "Meal/Entertain       5.698125\n",
       "Meeting             15.247594\n",
       "Moving               4.550000\n",
       "Temporary Site      10.474000\n",
       "Name: MILES, dtype: float64"
      ]
     },
     "execution_count": 15,
     "metadata": {},
     "output_type": "execute_result"
    }
   ],
   "source": [
    "average_distance_travelled = df.groupby('PURPOSE')['MILES'].mean()\n",
    "average_distance_travelled"
   ]
  },
  {
   "cell_type": "markdown",
   "id": "56ae6dc6",
   "metadata": {
    "papermill": {
     "duration": 0.01377,
     "end_time": "2023-08-24T18:46:36.013502",
     "exception": false,
     "start_time": "2023-08-24T18:46:35.999732",
     "status": "completed"
    },
    "tags": []
   },
   "source": [
    "**Comparison with the average distance travelled by passengers**"
   ]
  },
  {
   "cell_type": "code",
   "execution_count": 16,
   "id": "ef2f957c",
   "metadata": {
    "execution": {
     "iopub.execute_input": "2023-08-24T18:46:36.043681Z",
     "iopub.status.busy": "2023-08-24T18:46:36.042743Z",
     "iopub.status.idle": "2023-08-24T18:46:36.265469Z",
     "shell.execute_reply": "2023-08-24T18:46:36.263856Z"
    },
    "papermill": {
     "duration": 0.243674,
     "end_time": "2023-08-24T18:46:36.271196",
     "exception": false,
     "start_time": "2023-08-24T18:46:36.027522",
     "status": "completed"
    },
    "tags": []
   },
   "outputs": [
    {
     "data": {
      "image/png": "[encoded data removed]",
      "text/plain": [
       "<Figure size 640x480 with 1 Axes>"
      ]
     },
     "metadata": {},
     "output_type": "display_data"
    }
   ],
   "source": [
    "average_value = df['MILES'].mean()\n",
    "\n",
    "# Compare values with the average and categorize them\n",
    "above_average = df[df['MILES'] > average_value].shape[0]\n",
    "below_average = df[df['MILES'] <= average_value].shape[0]\n",
    "\n",
    "# Data for the pie chart\n",
    "sizes = [above_average, below_average]\n",
    "labels = ['Above Average', 'Below Average']\n",
    "colors = ['lightblue', 'lightcoral']\n",
    "\n",
    "# Create a pie chart\n",
    "plt.pie(sizes, labels=labels, colors=colors, autopct='%1.1f%%', startangle=140)\n",
    "plt.axis('equal') \n",
    "\n",
    "plt.title('Comparison of Values with Average')\n",
    "plt.show()"
   ]
  },
  {
   "cell_type": "markdown",
   "id": "817889ed",
   "metadata": {
    "papermill": {
     "duration": 0.014118,
     "end_time": "2023-08-24T18:46:36.313486",
     "exception": false,
     "start_time": "2023-08-24T18:46:36.299368",
     "status": "completed"
    },
    "tags": []
   },
   "source": [
    "**Average miles travelled for different purposes**"
   ]
  },
  {
   "cell_type": "code",
   "execution_count": 17,
   "id": "2dd7594f",
   "metadata": {
    "execution": {
     "iopub.execute_input": "2023-08-24T18:46:36.345110Z",
     "iopub.status.busy": "2023-08-24T18:46:36.344339Z",
     "iopub.status.idle": "2023-08-24T18:46:36.692749Z",
     "shell.execute_reply": "2023-08-24T18:46:36.691419Z"
    },
    "papermill": {
     "duration": 0.367518,
     "end_time": "2023-08-24T18:46:36.695455",
     "exception": false,
     "start_time": "2023-08-24T18:46:36.327937",
     "status": "completed"
    },
    "tags": []
   },
   "outputs": [
    {
     "data": {
      "image/png": "[encoded data removed]",
      "text/plain": [
       "<Figure size 640x480 with 1 Axes>"
      ]
     },
     "metadata": {},
     "output_type": "display_data"
    }
   ],
   "source": [
    "plt.bar(average_distance_travelled.index, average_distance_travelled.values)\n",
    "plt.xlabel('Purpose')\n",
    "plt.ylabel('Average Miles')\n",
    "plt.title('Average Miles for Different Purposes')\n",
    "plt.xticks(rotation=45)\n",
    "plt.show()"
   ]
  },
  {
   "cell_type": "markdown",
   "id": "957aafd8",
   "metadata": {
    "papermill": {
     "duration": 0.015394,
     "end_time": "2023-08-24T18:46:36.726412",
     "exception": false,
     "start_time": "2023-08-24T18:46:36.711018",
     "status": "completed"
    },
    "tags": []
   },
   "source": [
    "**Type of Passengers Category Wise**"
   ]
  },
  {
   "cell_type": "code",
   "execution_count": 18,
   "id": "9da93868",
   "metadata": {
    "execution": {
     "iopub.execute_input": "2023-08-24T18:46:36.759898Z",
     "iopub.status.busy": "2023-08-24T18:46:36.759471Z",
     "iopub.status.idle": "2023-08-24T18:46:37.181381Z",
     "shell.execute_reply": "2023-08-24T18:46:37.179946Z"
    },
    "papermill": {
     "duration": 0.442296,
     "end_time": "2023-08-24T18:46:37.184867",
     "exception": false,
     "start_time": "2023-08-24T18:46:36.742571",
     "status": "completed"
    },
    "tags": []
   },
   "outputs": [
    {
     "data": {
      "image/png": "[encoded data removed]",
      "text/plain": [
       "<Figure size 1400x900 with 1 Axes>"
      ]
     },
     "metadata": {},
     "output_type": "display_data"
    }
   ],
   "source": [
    "# Count the occurrences of each category\n",
    "category_counts = df['PURPOSE'].value_counts()\n",
    "\n",
    "# Data for the pie chart\n",
    "sizes = category_counts.values\n",
    "labels = category_counts.index\n",
    "colors = plt.cm.Set3.colors  # Choose a colormap\n",
    "\n",
    "# Create a pie chart\n",
    "plt.figure(figsize=(14,9))\n",
    "plt.pie(sizes, colors=colors, autopct='%1.1f%%', startangle=140)\n",
    "plt.axis('equal')  # Equal aspect ratio ensures the pie chart is circular.\n",
    "\n",
    "# Adding white circle in the center to make it look like a donut chart (optional)\n",
    "centre_circle = plt.Circle((0,0),0.35,fc='white')\n",
    "fig = plt.gcf()\n",
    "fig.gca().add_artist(centre_circle)\n",
    "\n",
    "\n",
    "plt.legend(labels, title='Categories', loc='best')\n",
    "plt.title('Pie Chart of Categories')\n",
    "plt.show()"
   ]
  },
  {
   "cell_type": "code",
   "execution_count": 19,
   "id": "fc7fa228",
   "metadata": {
    "execution": {
     "iopub.execute_input": "2023-08-24T18:46:37.221808Z",
     "iopub.status.busy": "2023-08-24T18:46:37.221059Z",
     "iopub.status.idle": "2023-08-24T18:46:37.230555Z",
     "shell.execute_reply": "2023-08-24T18:46:37.229305Z"
    },
    "papermill": {
     "duration": 0.030257,
     "end_time": "2023-08-24T18:46:37.233111",
     "exception": false,
     "start_time": "2023-08-24T18:46:37.202854",
     "status": "completed"
    },
    "tags": []
   },
   "outputs": [
    {
     "data": {
      "text/plain": [
       "Meeting            187\n",
       "Meal/Entertain     160\n",
       "Errand/Supplies    128\n",
       "Customer Visit     101\n",
       "Temporary Site      50\n",
       "Between Offices     18\n",
       "Moving               4\n",
       "Airport/Travel       3\n",
       "Charity ($)          1\n",
       "Commute              1\n",
       "Name: PURPOSE, dtype: int64"
      ]
     },
     "execution_count": 19,
     "metadata": {},
     "output_type": "execute_result"
    }
   ],
   "source": [
    "purpose=df['PURPOSE'].value_counts()\n",
    "purpose"
   ]
  },
  {
   "cell_type": "code",
   "execution_count": 20,
   "id": "5375709c",
   "metadata": {
    "execution": {
     "iopub.execute_input": "2023-08-24T18:46:37.269406Z",
     "iopub.status.busy": "2023-08-24T18:46:37.268678Z",
     "iopub.status.idle": "2023-08-24T18:46:37.675623Z",
     "shell.execute_reply": "2023-08-24T18:46:37.674220Z"
    },
    "papermill": {
     "duration": 0.428184,
     "end_time": "2023-08-24T18:46:37.678430",
     "exception": false,
     "start_time": "2023-08-24T18:46:37.250246",
     "status": "completed"
    },
    "tags": []
   },
   "outputs": [
    {
     "data": {
      "image/png": "[encoded data removed]",
      "text/plain": [
       "<Figure size 1200x500 with 1 Axes>"
      ]
     },
     "metadata": {},
     "output_type": "display_data"
    }
   ],
   "source": [
    "c = df.PURPOSE.value_counts().reset_index().rename({'index':'PURPOSE','PURPOSE':'frequency'}, axis =1)\n",
    "\n",
    "plt.figure(figsize=(12,5))                                       \n",
    "\n",
    "#color of graph\n",
    "sns.barplot(data = c.head(20),\n",
    "           x='PURPOSE',\n",
    "           y = 'frequency',\n",
    "           palette= \"deep\", \n",
    "          )     \n",
    "\n",
    "\n",
    "#differentiating lines\n",
    "plt.grid(True, axis = 'y',                                                 \n",
    "         color = 'black', \n",
    "         linestyle = '-',  \n",
    "         linewidth=0.2\n",
    "        ) \n",
    "\n",
    "plt.grid(False, axis = 'x')                                   \n",
    "\n",
    "#rotate the x-axis labels        \n",
    "sns.despine(offset=10, trim=False)\n",
    "plt.xticks(rotation = 90) \n",
    "\n",
    "#fontsize\n",
    "plt.xlabel(\"Cuisines\", fontsize = 10)                                          \n",
    "plt.ylabel(\"Rides\", fontsize = 10)                                  \n",
    "plt.title('Number of Rides', fontsize = 14)                \n",
    "plt.show()"
   ]
  },
  {
   "cell_type": "code",
   "execution_count": 21,
   "id": "423117e4",
   "metadata": {
    "execution": {
     "iopub.execute_input": "2023-08-24T18:46:37.718295Z",
     "iopub.status.busy": "2023-08-24T18:46:37.717837Z",
     "iopub.status.idle": "2023-08-24T18:46:37.728595Z",
     "shell.execute_reply": "2023-08-24T18:46:37.727517Z"
    },
    "papermill": {
     "duration": 0.034055,
     "end_time": "2023-08-24T18:46:37.730929",
     "exception": false,
     "start_time": "2023-08-24T18:46:37.696874",
     "status": "completed"
    },
    "tags": []
   },
   "outputs": [
    {
     "data": {
      "text/plain": [
       "CATEGORY\n",
       "Business    10.655844\n",
       "Personal     9.320779\n",
       "Name: MILES, dtype: float64"
      ]
     },
     "execution_count": 21,
     "metadata": {},
     "output_type": "execute_result"
    }
   ],
   "source": [
    "average_miles_by_category = df.groupby('CATEGORY')['MILES'].mean()\n",
    "average_miles_by_category"
   ]
  },
  {
   "cell_type": "code",
   "execution_count": 22,
   "id": "6fdcf29a",
   "metadata": {
    "execution": {
     "iopub.execute_input": "2023-08-24T18:46:37.769173Z",
     "iopub.status.busy": "2023-08-24T18:46:37.768485Z",
     "iopub.status.idle": "2023-08-24T18:46:37.782330Z",
     "shell.execute_reply": "2023-08-24T18:46:37.781068Z"
    },
    "papermill": {
     "duration": 0.03641,
     "end_time": "2023-08-24T18:46:37.785014",
     "exception": false,
     "start_time": "2023-08-24T18:46:37.748604",
     "status": "completed"
    },
    "tags": []
   },
   "outputs": [
    {
     "data": {
      "text/plain": [
       "Fuquay-Varina           1\n",
       "Wake Co.                1\n",
       "NOMA                    1\n",
       "Santa Clara             1\n",
       "North Berkeley Hills    1\n",
       "Name: START, dtype: int64"
      ]
     },
     "execution_count": 22,
     "metadata": {},
     "output_type": "execute_result"
    }
   ],
   "source": [
    "# least 5 start stations\n",
    "least_5_start_stations = df['START'].value_counts().nsmallest(5)\n",
    "least_5_start_stations\n"
   ]
  },
  {
   "cell_type": "code",
   "execution_count": 23,
   "id": "88a9a950",
   "metadata": {
    "execution": {
     "iopub.execute_input": "2023-08-24T18:46:37.823363Z",
     "iopub.status.busy": "2023-08-24T18:46:37.822677Z",
     "iopub.status.idle": "2023-08-24T18:46:37.833523Z",
     "shell.execute_reply": "2023-08-24T18:46:37.832100Z"
    },
    "papermill": {
     "duration": 0.032864,
     "end_time": "2023-08-24T18:46:37.835958",
     "exception": false,
     "start_time": "2023-08-24T18:46:37.803094",
     "status": "completed"
    },
    "tags": []
   },
   "outputs": [
    {
     "data": {
      "text/plain": [
       "Arlington Park at Amberly    1\n",
       "Stonewater                   1\n",
       "Elk Park                     1\n",
       "Summerwinds                  1\n",
       "Parkwood                     1\n",
       "Name: STOP, dtype: int64"
      ]
     },
     "execution_count": 23,
     "metadata": {},
     "output_type": "execute_result"
    }
   ],
   "source": [
    "# least 5 stop stations\n",
    "least_5_stop_stations = df['STOP'].value_counts().nsmallest(5)\n",
    "least_5_stop_stations"
   ]
  },
  {
   "cell_type": "markdown",
   "id": "ecfd5073",
   "metadata": {
    "papermill": {
     "duration": 0.018608,
     "end_time": "2023-08-24T18:46:37.872834",
     "exception": false,
     "start_time": "2023-08-24T18:46:37.854226",
     "status": "completed"
    },
    "tags": []
   },
   "source": [
    "**Performance of top start and stop stations**"
   ]
  },
  {
   "cell_type": "code",
   "execution_count": 24,
   "id": "e1c1e61b",
   "metadata": {
    "execution": {
     "iopub.execute_input": "2023-08-24T18:46:37.911298Z",
     "iopub.status.busy": "2023-08-24T18:46:37.910854Z",
     "iopub.status.idle": "2023-08-24T18:46:38.259096Z",
     "shell.execute_reply": "2023-08-24T18:46:38.257882Z"
    },
    "papermill": {
     "duration": 0.370849,
     "end_time": "2023-08-24T18:46:38.261885",
     "exception": false,
     "start_time": "2023-08-24T18:46:37.891036",
     "status": "completed"
    },
    "tags": []
   },
   "outputs": [
    {
     "data": {
      "image/png": "[encoded data removed]",
      "text/plain": [
       "<Figure size 1100x700 with 1 Axes>"
      ]
     },
     "metadata": {},
     "output_type": "display_data"
    }
   ],
   "source": [
    "top10_startstations = df[\"START\"].value_counts()[:10].sort_values(ascending=True)\n",
    "\n",
    "height = top10_startstations.values\n",
    "bars = top10_startstations.index\n",
    "y_pos = np.arange(len(bars))\n",
    "\n",
    "fig = plt.figure(figsize=[11,7], frameon=False)\n",
    "ax = fig.gca()\n",
    "ax.spines[\"top\"].set_visible(\"#424242\")\n",
    "ax.spines[\"right\"].set_visible(\"#424242\")\n",
    "ax.spines[\"left\"].set_color(\"#424242\")\n",
    "ax.spines[\"bottom\"].set_color(\"#424242\")\n",
    "\n",
    "colors = [\"#f9cdac\",\"#f2a49f\",\"#ec7c92\",\"#e65586\",\"#bc438b\",\"#933291\",\"#692398\",\"#551c7b\",\"#41155e\",\"#2d0f41\"]\n",
    "plt.barh(y_pos, height, color=colors)\n",
    " \n",
    "plt.xlabel(\"Number of rides\")\n",
    "\n",
    "for i, v in enumerate(height):\n",
    "    ax.text(v+3, i, str(v), color='#424242')\n",
    "plt.title(\"Top 10 Start Stations\")\n",
    "\n",
    "\n",
    "plt.show()"
   ]
  },
  {
   "cell_type": "markdown",
   "id": "b42172ed",
   "metadata": {
    "papermill": {
     "duration": 0.017986,
     "end_time": "2023-08-24T18:46:38.298528",
     "exception": false,
     "start_time": "2023-08-24T18:46:38.280542",
     "status": "completed"
    },
    "tags": []
   },
   "source": [
    "**Index:**\n",
    "\n",
    "0:Westpark Place       \n",
    "1:Raleigh          \n",
    "2:Karachi       \n",
    "3:Lahore         \n",
    "4:Durham             \n",
    "5:Islamabad\n",
    "6:Whitebridge     \n",
    "7:Morrisville     \n",
    "8:Unknown Location\n",
    "9:Cary     "
   ]
  },
  {
   "cell_type": "code",
   "execution_count": 25,
   "id": "b37b443c",
   "metadata": {
    "execution": {
     "iopub.execute_input": "2023-08-24T18:46:38.337726Z",
     "iopub.status.busy": "2023-08-24T18:46:38.337327Z",
     "iopub.status.idle": "2023-08-24T18:46:38.345884Z",
     "shell.execute_reply": "2023-08-24T18:46:38.344457Z"
    },
    "papermill": {
     "duration": 0.031177,
     "end_time": "2023-08-24T18:46:38.348329",
     "exception": false,
     "start_time": "2023-08-24T18:46:38.317152",
     "status": "completed"
    },
    "tags": []
   },
   "outputs": [
    {
     "data": {
      "text/plain": [
       "Westpark Place       17\n",
       "Raleigh              28\n",
       "Karachi              31\n",
       "Lahore               36\n",
       "Durham               37\n",
       "Islamabad            57\n",
       "Whitebridge          68\n",
       "Morrisville          85\n",
       "Unknown Location    148\n",
       "Cary                201\n",
       "Name: START, dtype: int64"
      ]
     },
     "execution_count": 25,
     "metadata": {},
     "output_type": "execute_result"
    }
   ],
   "source": [
    "top10_startstations"
   ]
  },
  {
   "cell_type": "code",
   "execution_count": 26,
   "id": "f4753114",
   "metadata": {
    "execution": {
     "iopub.execute_input": "2023-08-24T18:46:38.387463Z",
     "iopub.status.busy": "2023-08-24T18:46:38.386739Z",
     "iopub.status.idle": "2023-08-24T18:46:38.396843Z",
     "shell.execute_reply": "2023-08-24T18:46:38.395755Z"
    },
    "papermill": {
     "duration": 0.032026,
     "end_time": "2023-08-24T18:46:38.399098",
     "exception": false,
     "start_time": "2023-08-24T18:46:38.367072",
     "status": "completed"
    },
    "tags": []
   },
   "outputs": [
    {
     "data": {
      "text/plain": [
       "Westpark Place       17\n",
       "Raleigh              28\n",
       "Karachi              31\n",
       "Lahore               36\n",
       "Durham               37\n",
       "Islamabad            57\n",
       "Whitebridge          68\n",
       "Morrisville          85\n",
       "Unknown Location    148\n",
       "Cary                201\n",
       "Name: START, dtype: int64"
      ]
     },
     "execution_count": 26,
     "metadata": {},
     "output_type": "execute_result"
    }
   ],
   "source": [
    "top10_stopstations = df[\"START\"].value_counts()[:10].sort_values(ascending=True)\n",
    "top10_stopstations"
   ]
  },
  {
   "cell_type": "markdown",
   "id": "966a74a3",
   "metadata": {
    "papermill": {
     "duration": 0.018322,
     "end_time": "2023-08-24T18:46:38.436199",
     "exception": false,
     "start_time": "2023-08-24T18:46:38.417877",
     "status": "completed"
    },
    "tags": []
   },
   "source": [
    "**Ride Durations**"
   ]
  },
  {
   "cell_type": "code",
   "execution_count": 27,
   "id": "e6c4224f",
   "metadata": {
    "execution": {
     "iopub.execute_input": "2023-08-24T18:46:38.476472Z",
     "iopub.status.busy": "2023-08-24T18:46:38.476029Z",
     "iopub.status.idle": "2023-08-24T18:46:38.486352Z",
     "shell.execute_reply": "2023-08-24T18:46:38.484926Z"
    },
    "papermill": {
     "duration": 0.033667,
     "end_time": "2023-08-24T18:46:38.488941",
     "exception": false,
     "start_time": "2023-08-24T18:46:38.455274",
     "status": "completed"
    },
    "tags": []
   },
   "outputs": [
    {
     "name": "stdout",
     "output_type": "stream",
     "text": [
      "Minimum ride duration: 0 days 00:00:00\n",
      "Maximum ride duration: 0 days 05:36:00\n",
      "Average ride duration: 0 days 00:23:14.597402597\n"
     ]
    }
   ],
   "source": [
    "# calculating ride durations by subtracting start time by end time\n",
    "df['ride_duration'] = df['END_DATE'] - df['START_DATE']\n",
    "\n",
    "# Calculating min, max, and average ride durations\n",
    "min_duration = df['ride_duration'].min()\n",
    "max_duration = df['ride_duration'].max()\n",
    "average_duration = df['ride_duration'].mean()\n",
    "\n",
    "print(\"Minimum ride duration:\", min_duration)\n",
    "print(\"Maximum ride duration:\", max_duration)\n",
    "print(\"Average ride duration:\", average_duration)"
   ]
  },
  {
   "cell_type": "code",
   "execution_count": 28,
   "id": "061764a6",
   "metadata": {
    "execution": {
     "iopub.execute_input": "2023-08-24T18:46:38.528280Z",
     "iopub.status.busy": "2023-08-24T18:46:38.527848Z",
     "iopub.status.idle": "2023-08-24T18:46:38.892303Z",
     "shell.execute_reply": "2023-08-24T18:46:38.891370Z"
    },
    "papermill": {
     "duration": 0.386737,
     "end_time": "2023-08-24T18:46:38.894520",
     "exception": false,
     "start_time": "2023-08-24T18:46:38.507783",
     "status": "completed"
    },
    "tags": []
   },
   "outputs": [
    {
     "data": {
      "image/png": "[encoded data removed]",
      "text/plain": [
       "<Figure size 640x480 with 1 Axes>"
      ]
     },
     "metadata": {},
     "output_type": "display_data"
    }
   ],
   "source": [
    "#plotting the values in histogram\n",
    "plt.hist(df['ride_duration'].dt.total_seconds() / 60, bins=30 , color= '#4958B5') \n",
    "plt.xlabel('Ride Duration in minutes)')\n",
    "plt.ylabel('Number of Rides')\n",
    "plt.title('Total Rides depending upon Duration')\n",
    "plt.show()"
   ]
  }
 ],
 "metadata": {
  "kernelspec": {
   "display_name": "Python 3",
   "language": "python",
   "name": "python3"
  },
  "language_info": {
   "codemirror_mode": {
    "name": "ipython",
    "version": 3
   },
   "file_extension": ".py",
   "mimetype": "text/x-python",
   "name": "python",
   "nbconvert_exporter": "python",
   "pygments_lexer": "ipython3",
   "version": "3.10.12"
  },
  "papermill": {
   "default_parameters": {},
   "duration": 20.57095,
   "end_time": "2023-08-24T18:46:40.036580",
   "environment_variables": {},
   "exception": null,
   "input_path": "__notebook__.ipynb",
   "output_path": "__notebook__.ipynb",
   "parameters": {},
   "start_time": "2023-08-24T18:46:19.465630",
   "version": "2.4.0"
  }
 },
 "nbformat": 4,
 "nbformat_minor": 5
}
